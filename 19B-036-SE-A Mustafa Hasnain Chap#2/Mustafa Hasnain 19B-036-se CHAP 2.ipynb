{
 "cells": [
  {
   "cell_type": "markdown",
   "metadata": {},
   "source": [
    "# Exercises chap 2"
   ]
  },
  {
   "cell_type": "code",
   "execution_count": 1,
   "metadata": {},
   "outputs": [
    {
     "name": "stdout",
     "output_type": "stream",
     "text": [
      "-28\n",
      "10.5\n",
      "1048576\n",
      "71\n",
      "34\n"
     ]
    }
   ],
   "source": [
    "#2.11\n",
    "#a\n",
    "lst = (-7, -6 , -5, -4, -3, -2, -1)\n",
    "print(sum(lst))\n",
    "#b\n",
    "avg_age = (9 + 10 + 11 + 12)/4\n",
    "print(avg_age)\n",
    "#c\n",
    "print(2**20)\n",
    "#d\n",
    "print(4356//61)\n",
    "#e\n",
    "print(4365%61)"
   ]
  },
  {
   "cell_type": "code",
   "execution_count": 2,
   "metadata": {},
   "outputs": [
    {
     "name": "stdout",
     "output_type": "stream",
     "text": [
      "-+\n",
      "-+-\n",
      "+--\n",
      "+--+--\n"
     ]
    }
   ],
   "source": [
    "#2.12\n",
    "s1 = '-'\n",
    "s2 = '+'\n",
    "#a\n",
    "print(s1 + s2)\n",
    "#b\n",
    "print(s1 + s2 + s1)\n",
    "#c\n",
    "print(s2 + s1 + s1)\n",
    "#d\n",
    "print(s2 + s1 + s1 + s2 + s1 + s1)"
   ]
  },
  {
   "cell_type": "code",
   "execution_count": 3,
   "metadata": {
    "scrolled": true
   },
   "outputs": [
    {
     "name": "stdout",
     "output_type": "stream",
     "text": [
      "a c z y p\n"
     ]
    }
   ],
   "source": [
    "#2.13\n",
    "s = 'abcdefghijklmnopqrstuvwxyz'\n",
    "print(s[0], s[2], s[25], s[24], s[15])"
   ]
  },
  {
   "cell_type": "code",
   "execution_count": 4,
   "metadata": {},
   "outputs": [
    {
     "name": "stdout",
     "output_type": "stream",
     "text": [
      "True\n",
      "False\n",
      "True False\n",
      "False\n",
      "True\n",
      "True False\n"
     ]
    }
   ],
   "source": [
    "#2.14\n",
    "s = 'goodbye'\n",
    "print(s[0] == 'g')\n",
    "print(s[6] == 'g')\n",
    "print(s[0] == 'g', s[1] == 'a')\n",
    "print(s[6] == 'x')\n",
    "print(s[3] == 'd')\n",
    "print(s[0] == 'g', s[6] == 'g')"
   ]
  },
  {
   "cell_type": "code",
   "execution_count": 5,
   "metadata": {},
   "outputs": [
    {
     "name": "stdout",
     "output_type": "stream",
     "text": [
      "True\n",
      "True\n",
      "True\n",
      "True\n"
     ]
    }
   ],
   "source": [
    "#2.15\n",
    "print(len('anachronistically') ==1+ len('counterintuitive'))\n",
    "print(('misinterpretation'<'misrepresentation'))\n",
    "print(\"floccinaucinihilipilification\".find(\"e\")==-1)\n",
    "print(len(\"counterrevolution\") == len(\"counter\") + len(\"resolution\"))"
   ]
  },
  {
   "cell_type": "code",
   "execution_count": 6,
   "metadata": {},
   "outputs": [
    {
     "name": "stdout",
     "output_type": "stream",
     "text": [
      "6.5\n",
      "('paper', 'staples', 'pencils')\n",
      "John Fitzgerald Kennedy\n"
     ]
    }
   ],
   "source": [
    "#2.16\n",
    "a = 6\n",
    "b = 7\n",
    "c = (a + b)/2\n",
    "print(c)\n",
    "inventory = ('paper', 'staples', 'pencils')\n",
    "print(inventory)\n",
    "F = 'John'\n",
    "M = 'Fitzgerald'\n",
    "L = 'Kennedy'\n",
    "full_name = (F + ' ' + M + ' ' + L )\n",
    "print(F + ' ' + M + ' ' + L )\n",
    "\n"
   ]
  },
  {
   "cell_type": "code",
   "execution_count": 7,
   "metadata": {},
   "outputs": [
    {
     "name": "stdout",
     "output_type": "stream",
     "text": [
      "True\n",
      "False\n",
      "False\n",
      "True\n",
      "10\n"
     ]
    }
   ],
   "source": [
    "#2.17\n",
    "a = 17\n",
    "b = -9\n",
    "c = (a + b)/2\n",
    "print(a + b < 10)\n",
    "inventory = ('paper', 'staples', 'pencils')\n",
    "F = 'John'\n",
    "M = 'Fitzgerald'\n",
    "L = 'Kennedy'\n",
    "full_name = (F + ' ' + M + ' ' + L )\n",
    "print(len(inventory) == 5*len(full_name))\n",
    "print(c == 24)\n",
    "print(len(M) > len(F) < len(L))\n",
    "print(len(inventory) == 0 or 10)"
   ]
  },
  {
   "cell_type": "code",
   "execution_count": 8,
   "metadata": {
    "scrolled": true
   },
   "outputs": [
    {
     "name": "stdout",
     "output_type": "stream",
     "text": [
      "False\n",
      "[['rose', 'bougainvillea', 'yucca', 'marigold', 'daylilly', 'lilly of the valley']]\n"
     ]
    }
   ],
   "source": [
    "#2.18\n",
    "flowers = ['rose', 'bougainvillea', 'yucca', 'marigold', 'daylilly', 'lilly of the valley']\n",
    "print('potato' in flowers)\n",
    "thorny = ['rose', 'bougainvillea', 'yucca']\n",
    "poisionous = ['marigold', 'daylilly', 'lilly of the valley']\n",
    "dangerous = [thorny + poisionous]\n",
    "print(dangerous)\n"
   ]
  },
  {
   "cell_type": "code",
   "execution_count": 9,
   "metadata": {},
   "outputs": [
    {
     "name": "stdout",
     "output_type": "stream",
     "text": [
      "50.0\n",
      "None\n"
     ]
    }
   ],
   "source": [
    "#2.19\n",
    "answers = ['Y','N','Y','N','Y','N','Y','N']\n",
    "numYes = 4\n",
    "numNO = 4\n",
    "percentYes = 4/len(answers) * 100\n",
    "print(percentYes)\n",
    "lst = answers.sort(reverse = True)\n",
    "print(lst)"
   ]
  },
  {
   "cell_type": "code",
   "execution_count": 10,
   "metadata": {},
   "outputs": [
    {
     "name": "stdout",
     "output_type": "stream",
     "text": [
      "['p', 'o', 't']\n"
     ]
    }
   ],
   "source": [
    "#2.20\n",
    "s = 'top'\n",
    "print(list(reversed(s)))"
   ]
  },
  {
   "cell_type": "code",
   "execution_count": 11,
   "metadata": {
    "scrolled": true
   },
   "outputs": [
    {
     "name": "stdout",
     "output_type": "stream",
     "text": [
      "The fist name of author: Ljibomir\n",
      "The second name of author: Perkovic\n",
      "The author is Ljibomir Perkovic\n"
     ]
    }
   ],
   "source": [
    "#2.21\n",
    "s = (input(\"The fist name of author: \"))\n",
    "t = (input(\"The second name of author: \"))\n",
    "print(\"The author is\", s +' '+ t)"
   ]
  },
  {
   "cell_type": "code",
   "execution_count": 12,
   "metadata": {},
   "outputs": [
    {
     "name": "stdout",
     "output_type": "stream",
     "text": [
      "14\n"
     ]
    }
   ],
   "source": [
    "#2.22\n",
    "lst = [3, 7, -2, 12]\n",
    "diff = (lst[3] - lst[2])\n",
    "print(diff)"
   ]
  },
  {
   "cell_type": "code",
   "execution_count": 13,
   "metadata": {
    "scrolled": true
   },
   "outputs": [
    {
     "name": "stdout",
     "output_type": "stream",
     "text": [
      "None\n"
     ]
    },
    {
     "ename": "AttributeError",
     "evalue": "'tuple' object has no attribute 'insert'",
     "output_type": "error",
     "traceback": [
      "\u001b[1;31m---------------------------------------------------------------------------\u001b[0m",
      "\u001b[1;31mAttributeError\u001b[0m                            Traceback (most recent call last)",
      "\u001b[1;32m<ipython-input-13-4ae87f4bce15>\u001b[0m in \u001b[0;36m<module>\u001b[1;34m\u001b[0m\n\u001b[0;32m      3\u001b[0m \u001b[0mmonthsL\u001b[0m \u001b[1;33m=\u001b[0m \u001b[1;33m(\u001b[0m\u001b[1;34m'jan'\u001b[0m\u001b[1;33m,\u001b[0m \u001b[1;34m'feb'\u001b[0m\u001b[1;33m,\u001b[0m \u001b[1;34m'mar'\u001b[0m\u001b[1;33m,\u001b[0m \u001b[1;34m'may'\u001b[0m\u001b[1;33m)\u001b[0m\u001b[1;33m\u001b[0m\u001b[1;33m\u001b[0m\u001b[0m\n\u001b[0;32m      4\u001b[0m \u001b[0mprint\u001b[0m\u001b[1;33m(\u001b[0m\u001b[0mmonthsT\u001b[0m\u001b[1;33m.\u001b[0m\u001b[0minsert\u001b[0m\u001b[1;33m(\u001b[0m\u001b[1;36m3\u001b[0m \u001b[1;33m,\u001b[0m\u001b[1;34m'april'\u001b[0m\u001b[1;33m)\u001b[0m\u001b[1;33m)\u001b[0m\u001b[1;33m\u001b[0m\u001b[1;33m\u001b[0m\u001b[0m\n\u001b[1;32m----> 5\u001b[1;33m \u001b[0mprint\u001b[0m\u001b[1;33m(\u001b[0m\u001b[0mmonthsL\u001b[0m\u001b[1;33m.\u001b[0m\u001b[0minsert\u001b[0m\u001b[1;33m(\u001b[0m\u001b[1;36m3\u001b[0m \u001b[1;33m,\u001b[0m\u001b[1;34m'april'\u001b[0m\u001b[1;33m)\u001b[0m\u001b[1;33m)\u001b[0m\u001b[1;33m\u001b[0m\u001b[1;33m\u001b[0m\u001b[0m\n\u001b[0m\u001b[0;32m      6\u001b[0m \u001b[0mprint\u001b[0m\u001b[1;33m(\u001b[0m\u001b[0mmonthsT\u001b[0m\u001b[1;33m.\u001b[0m\u001b[0mappend\u001b[0m\u001b[1;33m(\u001b[0m\u001b[1;34m'june'\u001b[0m\u001b[1;33m)\u001b[0m\u001b[1;33m)\u001b[0m\u001b[1;33m\u001b[0m\u001b[1;33m\u001b[0m\u001b[0m\n\u001b[0;32m      7\u001b[0m \u001b[0mprint\u001b[0m\u001b[1;33m(\u001b[0m\u001b[0mmonthsL\u001b[0m\u001b[1;33m.\u001b[0m\u001b[0mappend\u001b[0m\u001b[1;33m(\u001b[0m\u001b[1;34m'june'\u001b[0m\u001b[1;33m)\u001b[0m\u001b[1;33m)\u001b[0m\u001b[1;33m\u001b[0m\u001b[1;33m\u001b[0m\u001b[0m\n",
      "\u001b[1;31mAttributeError\u001b[0m: 'tuple' object has no attribute 'insert'"
     ]
    }
   ],
   "source": [
    "#2.23\n",
    "monthsT = ['jan', 'feb', 'mar', 'may']\n",
    "monthsL = ('jan', 'feb', 'mar', 'may')\n",
    "print(monthsT.insert(3 ,'april'))\n",
    "print(monthsL.insert(3 ,'april'))\n",
    "print(monthsT.append('june'))\n",
    "print(monthsL.append('june'))\n",
    "print(monthsT.pop())\n",
    "print(monthsL.pop())\n",
    "print(monthsT.remove[1])\n",
    "print(monthsL.remove[1])\n",
    "print(monthsT.sort(reverse = True))\n",
    "print(monthsL.sort(reverse = True))"
   ]
  },
  {
   "cell_type": "code",
   "execution_count": null,
   "metadata": {},
   "outputs": [],
   "source": [
    "grades = ['A','B','C','D','A','B','C','A']\n",
    "count = (A = 1, B = 2, C = 3, D = 4)\n",
    "print(grades)"
   ]
  },
  {
   "cell_type": "code",
   "execution_count": 14,
   "metadata": {
    "scrolled": true
   },
   "outputs": [
    {
     "name": "stdout",
     "output_type": "stream",
     "text": [
      "x2: 6\n",
      "y2: -6\n",
      "True\n"
     ]
    }
   ],
   "source": [
    "#2.26\n",
    "import math\n",
    "r = 10\n",
    "x1 = 0\n",
    "y1 = 0\n",
    "x2 = float(input(\"x2: \"))\n",
    "y2 = float(input(\"y2: \"))\n",
    "d = math.sqrt((x2-x1)**2 + (y2 - y1)**2)\n",
    "print(r>d)"
   ]
  },
  {
   "cell_type": "code",
   "execution_count": 15,
   "metadata": {},
   "outputs": [
    {
     "name": "stdout",
     "output_type": "stream",
     "text": [
      "Enter the lenght: 16\n",
      "Enter the angle: 17\n",
      "4.677947275563788\n"
     ]
    }
   ],
   "source": [
    "#2.27\n",
    "from math import sin\n",
    "from math import pi\n",
    "lenght = float(input(\"Enter the lenght: \"))\n",
    "angle = float(input(\"Enter the angle: \"))\n",
    "radian = (pi * angle)/180\n",
    "height = lenght * sin(radian)\n",
    "print(height)"
   ]
  },
  {
   "cell_type": "code",
   "execution_count": 16,
   "metadata": {},
   "outputs": [
    {
     "name": "stdout",
     "output_type": "stream",
     "text": [
      "2\n",
      "[1, 3, 4, 5, 2]\n"
     ]
    }
   ],
   "source": [
    "#2.28\n",
    "lst = [1,2,3,4,5]\n",
    "middle_index = int(len(lst)/2)\n",
    "print(middle_index)\n",
    "lst.remove(2)\n",
    "lst.append(2)\n",
    "print(lst)"
   ]
  },
  {
   "cell_type": "code",
   "execution_count": 18,
   "metadata": {},
   "outputs": [
    {
     "name": "stdout",
     "output_type": "stream",
     "text": [
      "True\n",
      "True\n",
      "False\n"
     ]
    }
   ],
   "source": [
    "#2.29\n",
    "print(0 + 1 == 1 == 2-1)\n",
    "print(2 + 3 + 4 == 4 + 5 == 7 + 2)\n",
    "print(1 < -1 + 3 == 3 + 2 > 4)"
   ]
  },
  {
   "cell_type": "code",
   "execution_count": 20,
   "metadata": {},
   "outputs": [
    {
     "name": "stdout",
     "output_type": "stream",
     "text": [
      "['c', 'i', 'v', 'i', 'c']\n"
     ]
    }
   ],
   "source": [
    "#2.30\n",
    "P = 'civic'\n",
    "print(list(reversed(P)))"
   ]
  },
  {
   "cell_type": "code",
   "execution_count": 21,
   "metadata": {
    "scrolled": true
   },
   "outputs": [
    {
     "name": "stdout",
     "output_type": "stream",
     "text": [
      "[2, 3, 4, 5, 6]\n",
      "[2, 3, 4, 5, 6]\n",
      "[]\n"
     ]
    }
   ],
   "source": [
    "#2.31\n",
    "lst = [2, 3, 4]\n",
    "lst.extend([5,6])\n",
    "print(lst)\n",
    "lst2 = lst.copy()\n",
    "print(lst2)\n",
    "lst.clear()\n",
    "print(lst)"
   ]
  },
  {
   "cell_type": "markdown",
   "metadata": {},
   "source": [
    "# chap 2 practice"
   ]
  },
  {
   "cell_type": "code",
   "execution_count": 24,
   "metadata": {},
   "outputs": [
    {
     "name": "stdout",
     "output_type": "stream",
     "text": [
      "15\n",
      "the average age: 24.333333333333332\n",
      "0\n",
      "38\n",
      "1024\n",
      "3\n",
      "29.95\n"
     ]
    }
   ],
   "source": [
    "#practice\n",
    "print(1+2+3+4+5)\n",
    "print(\"the average age:\", (23 + 19 + 31)/3)\n",
    "print(73//403)\n",
    "print(403%73)\n",
    "print(2**10)\n",
    "print(abs(54 - 57))\n",
    "print(min((34,99, 29.95, 31.50)))"
   ]
  },
  {
   "cell_type": "code",
   "execution_count": 22,
   "metadata": {
    "scrolled": false
   },
   "outputs": [
    {
     "name": "stdout",
     "output_type": "stream",
     "text": [
      "False\n",
      "True\n",
      "True\n",
      "True\n",
      "False\n",
      "False\n",
      "True\n"
     ]
    }
   ],
   "source": [
    "#practice \n",
    "#a\n",
    "print(2 + 2 < 4)\n",
    "#b\n",
    "print(7//3 == 1 + 1)\n",
    "#c\n",
    "print(3**2 + 4**2 == 25)\n",
    "#d\n",
    "print(1387 % 19 == 0)\n",
    "#e\n",
    "print(2 + 4 + 6 > 12)\n",
    "#f\n",
    "print(31 % 2 == 0)\n",
    "#g\n",
    "print(float(min(34.99, 29.95, 31.50)) < 30.00)"
   ]
  },
  {
   "cell_type": "code",
   "execution_count": 28,
   "metadata": {},
   "outputs": [
    {
     "name": "stdout",
     "output_type": "stream",
     "text": [
      "ant bat cod\n",
      "antantantantantantantantant\n",
      "ant batbat codcodcod\n",
      "ant batant batant batant batant batant batant bat\n"
     ]
    }
   ],
   "source": [
    "#pactice\n",
    "s1 = 'ant'\n",
    "s2 = 'bat'\n",
    "s3 = 'cod'\n",
    "print(s1 +' '+ s2 +' '+ s3)\n",
    "print(s1 * 9)\n",
    "print(s1 +' '+ s2 * 2 +' '+ s3 * 3)\n",
    "print((s1 +' '+ s2) * 7)"
   ]
  },
  {
   "cell_type": "code",
   "execution_count": 29,
   "metadata": {},
   "outputs": [
    {
     "name": "stdout",
     "output_type": "stream",
     "text": [
      "0\n",
      "1\n",
      "6\n",
      "8\n",
      "9\n"
     ]
    }
   ],
   "source": [
    "#practice\n",
    "s = '0123456789'\n",
    "print(s[0])\n",
    "print(s[1])\n",
    "print(s[6])\n",
    "print(s[8])\n",
    "print(s[9])"
   ]
  },
  {
   "cell_type": "code",
   "execution_count": 31,
   "metadata": {},
   "outputs": [
    {
     "name": "stdout",
     "output_type": "stream",
     "text": [
      "['badminton', 'ball', 'barn', 'basket', 'bat']\n",
      "badminton bat\n"
     ]
    }
   ],
   "source": [
    "#practice\n",
    "words = ['bat', 'ball', 'barn', 'basket', 'badminton']\n",
    "words.sort()\n",
    "print(words)\n",
    "print(words[0] , words[4])"
   ]
  },
  {
   "cell_type": "code",
   "execution_count": 36,
   "metadata": {},
   "outputs": [
    {
     "name": "stdout",
     "output_type": "stream",
     "text": [
      "2\n",
      "None\n",
      "10\n",
      "None\n",
      "7.0\n"
     ]
    }
   ],
   "source": [
    "#practice\n",
    "grades = [9,7,7,10,3,9,6,6,2]\n",
    "print(grades.count(7))\n",
    "print(grades.insert(8, 4))\n",
    "print(max(grades))\n",
    "print(grades.sort())\n",
    "print(sum(grades)/9)"
   ]
  }
 ],
 "metadata": {
  "kernelspec": {
   "display_name": "Python 3",
   "language": "python",
   "name": "python3"
  },
  "language_info": {
   "codemirror_mode": {
    "name": "ipython",
    "version": 3
   },
   "file_extension": ".py",
   "mimetype": "text/x-python",
   "name": "python",
   "nbconvert_exporter": "python",
   "pygments_lexer": "ipython3",
   "version": "3.7.4"
  }
 },
 "nbformat": 4,
 "nbformat_minor": 2
}
