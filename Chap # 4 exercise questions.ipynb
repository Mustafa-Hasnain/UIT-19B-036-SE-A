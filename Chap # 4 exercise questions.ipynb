{
 "cells": [
  {
   "cell_type": "code",
   "execution_count": 2,
   "metadata": {},
   "outputs": [
    {
     "name": "stdout",
     "output_type": "stream",
     "text": [
      "abc\n",
      "bcd\n",
      "abcdefghijklmnopqrstuvw\n"
     ]
    }
   ],
   "source": [
    "#4.12\n",
    "s = 'abcdefghijklmnopqrstuvwxyz'\n",
    "print(s[:3])\n",
    "print(s[1:4])\n",
    "print(s[:-3])"
   ]
  },
  {
   "cell_type": "code",
   "execution_count": 7,
   "metadata": {},
   "outputs": [
    {
     "name": "stdout",
     "output_type": "stream",
     "text": [
      "False\n",
      "False\n",
      "True\n"
     ]
    }
   ],
   "source": [
    "#4.13\n",
    "s = 'abcdefghijklmnopqrstuvwxyz'\n",
    "print(s[:2]=='bc')\n",
    "print(s[0:13]=='abcdefghijklmn')\n",
    "print(s[14:26]=='opqrstuvwxyz')"
   ]
  },
  {
   "cell_type": "code",
   "execution_count": 18,
   "metadata": {},
   "outputs": [
    {
     "name": "stdout",
     "output_type": "stream",
     "text": [
      "['10', ' 20', ' 30', ' 40', ' 50', ' 60']\n"
     ]
    }
   ],
   "source": [
    "#4.15\n",
    "s = '10. 20. 30. 40. 50. 60'\n",
    "print(s.split('.'))"
   ]
  },
  {
   "cell_type": "code",
   "execution_count": 21,
   "metadata": {},
   "outputs": [
    {
     "name": "stdout",
     "output_type": "stream",
     "text": [
      "Enter your first name: Mustafa\n",
      "Enter your second name: Hasnain\n"
     ]
    },
    {
     "data": {
      "text/plain": [
       "True"
      ]
     },
     "execution_count": 21,
     "metadata": {},
     "output_type": "execute_result"
    }
   ],
   "source": [
    "#4.16\n",
    "first = 'Mustafa'\n",
    "Last = 'Hasnain'\n",
    "first == input('Enter your first name: ')\n",
    "Last == input('Enter your second name: ')"
   ]
  },
  {
   "cell_type": "code",
   "execution_count": 1,
   "metadata": {},
   "outputs": [
    {
     "name": "stdout",
     "output_type": "stream",
     "text": [
      "The of string message is:  47\n",
      "2\n",
      "The xxxx of this message is that it is xxxx\n"
     ]
    }
   ],
   "source": [
    "#4.17\n",
    "message = 'The secret of this message is that it is secret'\n",
    "print(\"The of string message is: \", len(message))\n",
    "print(message.count('secret'))\n",
    "censored = message.replace('secret', 'xxxx')\n",
    "print(censored)"
   ]
  },
  {
   "cell_type": "code",
   "execution_count": null,
   "metadata": {
    "collapsed": true
   },
   "outputs": [],
   "source": [
    "#4.18\n"
   ]
  },
  {
   "cell_type": "code",
   "execution_count": 6,
   "metadata": {},
   "outputs": [
    {
     "name": "stdout",
     "output_type": "stream",
     "text": [
      "sigel, Marlena Mae\n",
      "sigel, Marlena M\n",
      "Marlena, M, sigel\n"
     ]
    }
   ],
   "source": [
    "#4.19\n",
    "first = 'Marlena'\n",
    "last = 'sigel'\n",
    "middle = 'Mae'\n",
    "print('{0}, {1} {2}'.format(last, first, middle))\n",
    "print('{0}, {1} {2}'.format(last, first, middle[0]))\n",
    "print('{0}, {1}, {2}'.format(first, middle[0], last))"
   ]
  },
  {
   "cell_type": "code",
   "execution_count": 12,
   "metadata": {},
   "outputs": [
    {
     "ename": "TypeError",
     "evalue": "'float' object is not subscriptable",
     "output_type": "error",
     "traceback": [
      "\u001b[1;31m---------------------------------------------------------------------------\u001b[0m",
      "\u001b[1;31mTypeError\u001b[0m                                 Traceback (most recent call last)",
      "\u001b[1;32m<ipython-input-12-18816376c893>\u001b[0m in \u001b[0;36m<module>\u001b[1;34m\u001b[0m\n\u001b[0;32m      2\u001b[0m \u001b[1;32mfrom\u001b[0m \u001b[0mmath\u001b[0m \u001b[1;32mimport\u001b[0m \u001b[0mpi\u001b[0m\u001b[1;33m\u001b[0m\u001b[1;33m\u001b[0m\u001b[0m\n\u001b[0;32m      3\u001b[0m \u001b[1;32mfrom\u001b[0m \u001b[0mmath\u001b[0m \u001b[1;32mimport\u001b[0m \u001b[0me\u001b[0m\u001b[1;33m\u001b[0m\u001b[1;33m\u001b[0m\u001b[0m\n\u001b[1;32m----> 4\u001b[1;33m \u001b[0mprint\u001b[0m\u001b[1;33m(\u001b[0m\u001b[1;34m'{0}, {1}'\u001b[0m\u001b[1;33m.\u001b[0m\u001b[0mformat\u001b[0m\u001b[1;33m(\u001b[0m\u001b[0mpi\u001b[0m\u001b[1;33m[\u001b[0m\u001b[1;33m:\u001b[0m\u001b[1;36m2\u001b[0m\u001b[1;33m]\u001b[0m\u001b[1;33m,\u001b[0m \u001b[0me\u001b[0m\u001b[1;33m[\u001b[0m\u001b[1;33m:\u001b[0m\u001b[1;36m2\u001b[0m\u001b[1;33m]\u001b[0m\u001b[1;33m)\u001b[0m\u001b[1;33m)\u001b[0m\u001b[1;33m\u001b[0m\u001b[1;33m\u001b[0m\u001b[0m\n\u001b[0m\u001b[0;32m      5\u001b[0m \u001b[0mprint\u001b[0m\u001b[1;33m(\u001b[0m\u001b[1;34m'{0}, {1}'\u001b[0m\u001b[1;33m.\u001b[0m\u001b[0mformat\u001b[0m\u001b[1;33m(\u001b[0m\u001b[0mpi\u001b[0m\u001b[1;33m[\u001b[0m\u001b[1;33m:\u001b[0m\u001b[1;36m3\u001b[0m\u001b[1;33m]\u001b[0m\u001b[1;33m,\u001b[0m \u001b[0me\u001b[0m\u001b[1;33m[\u001b[0m\u001b[1;33m:\u001b[0m\u001b[1;36m3\u001b[0m\u001b[1;33m]\u001b[0m\u001b[1;33m)\u001b[0m\u001b[1;33m)\u001b[0m\u001b[1;33m\u001b[0m\u001b[1;33m\u001b[0m\u001b[0m\n\u001b[0;32m      6\u001b[0m \u001b[0mprint\u001b[0m\u001b[1;33m(\u001b[0m\u001b[1;34m'{0}, {1}'\u001b[0m\u001b[1;33m.\u001b[0m\u001b[0mformat\u001b[0m\u001b[1;33m(\u001b[0m\u001b[0mpi\u001b[0m\u001b[1;33m[\u001b[0m\u001b[1;33m:\u001b[0m\u001b[1;36m5\u001b[0m\u001b[1;33m]\u001b[0m\u001b[1;33m,\u001b[0m \u001b[0me\u001b[0m\u001b[1;33m[\u001b[0m\u001b[1;33m:\u001b[0m\u001b[1;36m5\u001b[0m\u001b[1;33m]\u001b[0m\u001b[1;33m)\u001b[0m\u001b[1;33m)\u001b[0m\u001b[1;33m\u001b[0m\u001b[1;33m\u001b[0m\u001b[0m\n",
      "\u001b[1;31mTypeError\u001b[0m: 'float' object is not subscriptable"
     ]
    }
   ],
   "source": [
    "#4.21\n",
    "from math import pi\n",
    "from math import e\n",
    "print('{0}, {1}'.format(pi[:2], e[:2]))\n",
    "print('{0}, {1}'.format(pi[:3], e[:3]))\n",
    "print('{0}, {1}'.format(pi[:5], e[:5]))"
   ]
  },
  {
   "cell_type": "code",
   "execution_count": 14,
   "metadata": {},
   "outputs": [
    {
     "name": "stdout",
     "output_type": "stream",
     "text": [
      "jan\n",
      "nov\n"
     ]
    }
   ],
   "source": [
    "#4.22\n",
    "def month():\n",
    "    month1 = 'january'\n",
    "    print(month1[:3])\n",
    "    month11 = 'november'\n",
    "    print(month11[:3])\n",
    "    return\n",
    "month()"
   ]
  },
  {
   "cell_type": "code",
   "execution_count": 15,
   "metadata": {},
   "outputs": [
    {
     "name": "stdout",
     "output_type": "stream",
     "text": [
      "Enter a sentencea sample sentence\n",
      "8.5\n"
     ]
    }
   ],
   "source": [
    "#4.23\n",
    "def average():\n",
    "    avg = input(\"Enter a sentence: \")\n",
    "    print(len(avg)/2)\n",
    "    return\n",
    "average()"
   ]
  },
  {
   "cell_type": "code",
   "execution_count": 22,
   "metadata": {},
   "outputs": [
    {
     "name": "stdout",
     "output_type": "stream",
     "text": [
      "e\n",
      "a is: 0\n",
      "e is: 1\n",
      "i is: 0\n",
      "o is: 0\n",
      "u is: 0\n",
      "o\n",
      "a is: 0\n",
      "e is: 0\n",
      "i is: 0\n",
      "o is: 1\n",
      "u is: 0\n",
      "u\n",
      "a is: 0\n",
      "e is: 0\n",
      "i is: 0\n",
      "o is: 0\n",
      "u is: 1\n",
      "e\n",
      "a is: 0\n",
      "e is: 1\n",
      "i is: 0\n",
      "o is: 0\n",
      "u is: 0\n",
      "a\n",
      "a is: 1\n",
      "e is: 0\n",
      "i is: 0\n",
      "o is: 0\n",
      "u is: 0\n",
      "e\n",
      "a is: 0\n",
      "e is: 1\n",
      "i is: 0\n",
      "o is: 0\n",
      "u is: 0\n"
     ]
    }
   ],
   "source": [
    "#4.24\n",
    "sentence = 'Le Tour de France'\n",
    "for i in sentence:\n",
    "    if i=='a'or i=='e' or i=='o' or i=='u' or i=='i':\n",
    "        print(i)\n",
    "        print('a is:',i.count('a'))\n",
    "        print('e is:',i.count('e'))\n",
    "        print('i is:',i.count('i'))\n",
    "        print('o is:',i.count('o'))\n",
    "        print('u is:',i.count('u'))"
   ]
  },
  {
   "cell_type": "code",
   "execution_count": 25,
   "metadata": {},
   "outputs": [
    {
     "name": "stdout",
     "output_type": "stream",
     "text": [
      "I will tell you my xxxx. But first, I have to explain\n",
      "why it is a xxxx.\n",
      "\n"
     ]
    }
   ],
   "source": [
    "def crypto():\n",
    "    infile = open('sample.txt', 'r')\n",
    "    content = infile.read()\n",
    "    infile.close()\n",
    "    print(content.replace('secret', 'xxxx'))\n",
    "    return\n",
    "crypto()"
   ]
  },
  {
   "cell_type": "code",
   "execution_count": 26,
   "metadata": {},
   "outputs": [
    {
     "name": "stdout",
     "output_type": "stream",
     "text": [
      "I will tell you my secret. But first, I have to explain\n",
      "why it is a secret.\n",
      "\n"
     ]
    }
   ],
   "source": [
    "#4.27\n",
    "def fcopy():\n",
    "    infile = open('sample.txt')\n",
    "    content = infile.read()\n",
    "    infile.close()\n",
    "    print(content)\n",
    "    return\n",
    "fcopy()"
   ]
  },
  {
   "cell_type": "code",
   "execution_count": 32,
   "metadata": {},
   "outputs": [
    {
     "name": "stdout",
     "output_type": "stream",
     "text": [
      "line count:  2\n",
      "word count: 0\n",
      "character count:  56\n",
      "character count:  20\n"
     ]
    }
   ],
   "source": [
    "#4.29\n",
    "def stats():\n",
    "    infile = open('sample.txt')\n",
    "    content = infile.readlines()\n",
    "    content1 = infile.read()\n",
    "    infile.close()\n",
    "    print('line count: ' ,len(content))\n",
    "    words = content1.split()\n",
    "    print('word count:' ,len(words))\n",
    "    for char in content:\n",
    "        print('character count: ',len(char))\n",
    "    return\n",
    "stats()"
   ]
  },
  {
   "cell_type": "code",
   "execution_count": 33,
   "metadata": {},
   "outputs": [
    {
     "name": "stdout",
     "output_type": "stream",
     "text": [
      "4 students got A+\n",
      "8 students got A\n",
      "4 students got B\n",
      "3 students got C\n"
     ]
    }
   ],
   "source": [
    "#4.30\n",
    "def distribution():\n",
    "    infile = open('sample.txt')\n",
    "    content = infile.read()\n",
    "    infile.close()\n",
    "    print(content.count('A+'),'students got A+')\n",
    "    print(content.count('A'),'students got A')\n",
    "    print(content.count('B'),'students got B')\n",
    "    print(content.count('C'),'students got C')\n",
    "    return\n",
    "distribution()"
   ]
  }
 ],
 "metadata": {
  "kernelspec": {
   "display_name": "Python 3",
   "language": "python",
   "name": "python3"
  },
  "language_info": {
   "codemirror_mode": {
    "name": "ipython",
    "version": 3
   },
   "file_extension": ".py",
   "mimetype": "text/x-python",
   "name": "python",
   "nbconvert_exporter": "python",
   "pygments_lexer": "ipython3",
   "version": "3.7.4"
  }
 },
 "nbformat": 4,
 "nbformat_minor": 1
}
