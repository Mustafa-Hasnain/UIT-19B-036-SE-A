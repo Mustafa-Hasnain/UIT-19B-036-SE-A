{
 "cells": [
  {
   "cell_type": "code",
   "execution_count": 4,
   "metadata": {},
   "outputs": [
    {
     "name": "stdout",
     "output_type": "stream",
     "text": [
      "234\n",
      "67\n",
      "234567\n",
      "0123\n"
     ]
    }
   ],
   "source": [
    "#4.1\n",
    "s = '0123456789'\n",
    "print(s[2:5])\n",
    "print(s[6:8])\n",
    "print(s[2:8])\n",
    "print(s[0:4])"
   ]
  },
  {
   "cell_type": "code",
   "execution_count": 6,
   "metadata": {},
   "outputs": [
    {
     "name": "stdout",
     "output_type": "stream",
     "text": [
      "2\n",
      "13\n",
      "It will be a cloudy day today\n"
     ]
    }
   ],
   "source": [
    "#4.2\n",
    "s = 'It will be a sunny day today'\n",
    "print(s.count('day'))\n",
    "print(s.find('sunny'))\n",
    "print(s.replace('sunny', 'cloudy'))"
   ]
  },
  {
   "cell_type": "code",
   "execution_count": 7,
   "metadata": {},
   "outputs": [
    {
     "name": "stdout",
     "output_type": "stream",
     "text": [
      "Smith John Paul\n"
     ]
    }
   ],
   "source": [
    "#4.3\n",
    "last = 'Smith'\n",
    "first = 'John'\n",
    "middle = 'Paul'\n",
    "print(last, first, middle, sep=' ')"
   ]
  },
  {
   "cell_type": "code",
   "execution_count": 19,
   "metadata": {},
   "outputs": [
    {
     "name": "stdout",
     "output_type": "stream",
     "text": [
      "Enter a number: 2\n",
      "Enter a number: 17\n",
      "2, 4, 6, 8, 10, 12, 14, 16, "
     ]
    }
   ],
   "source": [
    "#4.4\n",
    "start = int(input(\"Enter a number: \"))\n",
    "end = int(input(\"Enter a number: \"))\n",
    "for i in range(start, end + 1):\n",
    "    if i%2==0:\n",
    "        print(i, end=', ')"
   ]
  },
  {
   "cell_type": "code",
   "execution_count": 23,
   "metadata": {},
   "outputs": [
    {
     "name": "stdout",
     "output_type": "stream",
     "text": [
      "John Doe\n",
      "123 Main Street\n",
      "AnyCity AS 09876\n"
     ]
    }
   ],
   "source": [
    "#4.5\n",
    "first = 'John'\n",
    "last = 'Doe'\n",
    "street = 'Main Street'\n",
    "number = 123\n",
    "city = 'AnyCity'\n",
    "state = 'AS'\n",
    "zipcode = '09876'\n",
    "print('{0} {1}'.format(first, last))\n",
    "print('{0} {1}'.format(number, street))\n",
    "print('{0} {1} {2}'.format(city, state, zipcode))"
   ]
  },
  {
   "cell_type": "code",
   "execution_count": 1,
   "metadata": {},
   "outputs": [
    {
     "name": "stdout",
     "output_type": "stream",
     "text": [
      "time.struct_time(tm_year=2017, tm_mon=7, tm_mday=14, tm_hour=7, tm_min=40, tm_sec=0, tm_wday=4, tm_yday=195, tm_isdst=0)\n"
     ]
    }
   ],
   "source": [
    "#4.7\n",
    "import time\n",
    "t = time.localtime(1500000000)\n",
    "print(t)\n"
   ]
  },
  {
   "cell_type": "code",
   "execution_count": 15,
   "metadata": {},
   "outputs": [
    {
     "name": "stdout",
     "output_type": "stream",
     "text": [
      "Wednesday, December 04 2019\n",
      "('%I:%M %p %Z Central Daylight Time on %m/%d/%Y', time.struct_time(tm_year=2019, tm_mon=12, tm_mday=4, tm_hour=2, tm_min=20, tm_sec=54, tm_wday=2, tm_yday=338, tm_isdst=0))\n"
     ]
    }
   ],
   "source": [
    "import time\n",
    "t = time.localtime()\n",
    "current_time = time.strftime('%A, %B %d %Y', t)\n",
    "print(current_time)\n",
    "currentTime = ('%I:%M %p %Z Central Daylight Time on %m/%d/%Y',t)\n",
    "print(currentTime)"
   ]
  },
  {
   "cell_type": "code",
   "execution_count": 16,
   "metadata": {},
   "outputs": [
    {
     "name": "stdout",
     "output_type": "stream",
     "text": [
      "['The', '3', 'lines', 'in', 'this', 'file', 'end', 'with', 'the', 'new', 'line', 'character.', '23', 'There', 'is', 'a', 'blank', 'line', 'above', 'this', 'line.']\n"
     ]
    },
    {
     "data": {
      "text/plain": [
       "21"
      ]
     },
     "execution_count": 16,
     "metadata": {},
     "output_type": "execute_result"
    }
   ],
   "source": [
    "def words(filename):\n",
    "    infile = open(filename, 'r')\n",
    "    content = infile.read()\n",
    "    infile.close()\n",
    "    \n",
    "    words = content.split()\n",
    "    print(words)\n",
    "    return len(words)\n",
    "words('sample.txt')"
   ]
  },
  {
   "cell_type": "code",
   "execution_count": 18,
   "metadata": {},
   "outputs": [
    {
     "name": "stdout",
     "output_type": "stream",
     "text": [
      "The 3 lines in this file end with the new line character.\n"
     ]
    }
   ],
   "source": [
    "def mygrep(filename, target):\n",
    "    infile = open(filename)\n",
    "    for i in infile:\n",
    "        if target in i:\n",
    "            print(i, end='')\n",
    "            return\n",
    "mygrep('sample.txt', 'r')"
   ]
  }
 ],
 "metadata": {
  "kernelspec": {
   "display_name": "Python 3",
   "language": "python",
   "name": "python3"
  },
  "language_info": {
   "codemirror_mode": {
    "name": "ipython",
    "version": 3
   },
   "file_extension": ".py",
   "mimetype": "text/x-python",
   "name": "python",
   "nbconvert_exporter": "python",
   "pygments_lexer": "ipython3",
   "version": "3.7.4"
  }
 },
 "nbformat": 4,
 "nbformat_minor": 2
}
