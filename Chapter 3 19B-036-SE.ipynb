{
 "cells": [
  {
   "cell_type": "markdown",
   "metadata": {},
   "source": [
    "# practice questions"
   ]
  },
  {
   "cell_type": "code",
   "execution_count": 74,
   "metadata": {},
   "outputs": [
    {
     "name": "stdout",
     "output_type": "stream",
     "text": [
      "Enter the temp in farhenheit: 32\n",
      "The temp in degree celcius is 0.0\n"
     ]
    }
   ],
   "source": [
    "#3.1\n",
    "f = float(input(\"Enter the temp in farhenheit: \"))\n",
    "c = (f - 32) * 5/9\n",
    "print(\"The temp in degree celcius is\", c)"
   ]
  },
  {
   "cell_type": "code",
   "execution_count": 76,
   "metadata": {},
   "outputs": [
    {
     "name": "stdout",
     "output_type": "stream",
     "text": [
      "Enter the age: 65\n",
      "Enter no of hits: 11\n",
      "You can get your pension benefits\n",
      "You are dead...\n"
     ]
    }
   ],
   "source": [
    "#3.2\n",
    "age = int(input(\"Enter the age: \"))\n",
    "hits = int(input(\"Enter no of hits: \"))\n",
    "if age>62:\n",
    "    print('You can get your pension benefits')\n",
    "if hits>10:\n",
    "    print('You are dead...')"
   ]
  },
  {
   "cell_type": "code",
   "execution_count": 80,
   "metadata": {},
   "outputs": [
    {
     "name": "stdout",
     "output_type": "stream",
     "text": [
      "Enter a year: 2000\n",
      "Could be a leap year.\n",
      "Enter a no: 1234\n",
      "You won!\n"
     ]
    }
   ],
   "source": [
    "#3.3\n",
    "year = (int(input(\"Enter a year: \")))\n",
    "if year % 4 == 0:\n",
    "    print('Could be a leap year.')\n",
    "else:\n",
    "    print('Definitely not a leap year')\n",
    "ticket_no = (int(input(\"Enter a no: \")))\n",
    "lottery = 1234\n",
    "if ticket_no == lottery:\n",
    "    print('You won!')\n",
    "else:\n",
    "    print('Better luck next time')"
   ]
  },
  {
   "cell_type": "markdown",
   "metadata": {},
   "source": [
    "# Exercises"
   ]
  },
  {
   "cell_type": "code",
   "execution_count": 1,
   "metadata": {},
   "outputs": [
    {
     "name": "stdout",
     "output_type": "stream",
     "text": [
      "7\n"
     ]
    },
    {
     "ename": "NameError",
     "evalue": "name 'hello' is not defined",
     "output_type": "error",
     "traceback": [
      "\u001b[1;31m---------------------------------------------------------------------------\u001b[0m",
      "\u001b[1;31mNameError\u001b[0m                                 Traceback (most recent call last)",
      "\u001b[1;32m<ipython-input-1-438be8c273f6>\u001b[0m in \u001b[0;36m<module>\u001b[1;34m\u001b[0m\n\u001b[0;32m      2\u001b[0m \u001b[0ma\u001b[0m \u001b[1;33m=\u001b[0m \u001b[0meval\u001b[0m\u001b[1;33m(\u001b[0m\u001b[1;34m'2 * 3 + 1'\u001b[0m\u001b[1;33m)\u001b[0m\u001b[1;33m\u001b[0m\u001b[1;33m\u001b[0m\u001b[0m\n\u001b[0;32m      3\u001b[0m \u001b[0mprint\u001b[0m\u001b[1;33m(\u001b[0m\u001b[0ma\u001b[0m\u001b[1;33m)\u001b[0m\u001b[1;33m\u001b[0m\u001b[1;33m\u001b[0m\u001b[0m\n\u001b[1;32m----> 4\u001b[1;33m \u001b[0mb\u001b[0m \u001b[1;33m=\u001b[0m \u001b[0meval\u001b[0m\u001b[1;33m(\u001b[0m\u001b[1;34m'hello'\u001b[0m\u001b[1;33m)\u001b[0m\u001b[1;33m\u001b[0m\u001b[1;33m\u001b[0m\u001b[0m\n\u001b[0m\u001b[0;32m      5\u001b[0m \u001b[0mprint\u001b[0m\u001b[1;33m(\u001b[0m\u001b[0mb\u001b[0m\u001b[1;33m)\u001b[0m\u001b[1;33m\u001b[0m\u001b[1;33m\u001b[0m\u001b[0m\n\u001b[0;32m      6\u001b[0m \u001b[0mc\u001b[0m \u001b[1;33m=\u001b[0m \u001b[0meval\u001b[0m\u001b[1;33m(\u001b[0m\u001b[1;34m\"'hello' + ' ' + 'world'\"\u001b[0m\u001b[1;33m)\u001b[0m\u001b[1;33m\u001b[0m\u001b[1;33m\u001b[0m\u001b[0m\n",
      "\u001b[1;32m<string>\u001b[0m in \u001b[0;36m<module>\u001b[1;34m\u001b[0m\n",
      "\u001b[1;31mNameError\u001b[0m: name 'hello' is not defined"
     ]
    }
   ],
   "source": [
    "#3.17\n",
    "a = eval('2 * 3 + 1')\n",
    "print(a)\n",
    "b = eval('hello')\n",
    "print(b)\n",
    "c = eval(\"'hello' + ' ' + 'world'\")\n",
    "print(d)\n",
    "d = \"'ASCII'.count('I')\"\n",
    "print(d)"
   ]
  },
  {
   "cell_type": "code",
   "execution_count": 3,
   "metadata": {},
   "outputs": [
    {
     "name": "stdout",
     "output_type": "stream",
     "text": [
      "OK\n",
      "OK\n"
     ]
    }
   ],
   "source": [
    "#3.18\n",
    "a, b, c = 3, 4, 5\n",
    "if a<b:\n",
    "    print(\"OK\")\n",
    "if c<b:\n",
    "    print(\"OK\")\n",
    "if a + b == c:\n",
    "    print(\"OK\")\n",
    "if a**2  + b**2 == c**2:\n",
    "    print(\"OK\")"
   ]
  },
  {
   "cell_type": "code",
   "execution_count": 4,
   "metadata": {},
   "outputs": [
    {
     "name": "stdout",
     "output_type": "stream",
     "text": [
      "OK\n",
      "Not OK\n",
      "Not OK\n",
      "OK\n"
     ]
    }
   ],
   "source": [
    "#3.19\n",
    "a, b, c = 3, 4, 5\n",
    "if a<b:\n",
    "    print(\"OK\")\n",
    "else:\n",
    "    print(\"Not OK\")\n",
    "if c<b:\n",
    "    print(\"OK\")\n",
    "else:\n",
    "    print(\"Not OK\")\n",
    "if a + b == c:\n",
    "    print(\"OK\")\n",
    "else:\n",
    "    print(\"Not OK\")\n",
    "if a**2  + b**2 == c**2:\n",
    "    print(\"OK\")\n",
    "else:\n",
    "    print(\"Not OK\")"
   ]
  },
  {
   "cell_type": "code",
   "execution_count": 19,
   "metadata": {},
   "outputs": [
    {
     "name": "stdout",
     "output_type": "stream",
     "text": [
      "Jan\n",
      "Feb\n",
      "Mar\n"
     ]
    }
   ],
   "source": [
    "#3.20\n",
    "lst =  ['January', 'February', 'March']\n",
    "for char in lst:\n",
    "    print(char[:3])"
   ]
  },
  {
   "cell_type": "code",
   "execution_count": 20,
   "metadata": {},
   "outputs": [
    {
     "name": "stdout",
     "output_type": "stream",
     "text": [
      "2\n",
      "4\n",
      "6\n",
      "8\n"
     ]
    }
   ],
   "source": [
    "#3.21\n",
    "lst = [2, 3, 4, 5, 6, 7, 8, 9]\n",
    "for i in lst:\n",
    "    if i%2==0:\n",
    "        print(i)"
   ]
  },
  {
   "cell_type": "code",
   "execution_count": 21,
   "metadata": {},
   "outputs": [
    {
     "name": "stdout",
     "output_type": "stream",
     "text": [
      "4\n",
      "8\n"
     ]
    }
   ],
   "source": [
    "#3.22\n",
    "lst = [2, 3, 4, 5, 6, 7, 8, 9]\n",
    "for i in lst:\n",
    "    if (i**2)%8==0:\n",
    "        print(i)"
   ]
  },
  {
   "cell_type": "code",
   "execution_count": 23,
   "metadata": {},
   "outputs": [
    {
     "name": "stdout",
     "output_type": "stream",
     "text": [
      "0\n",
      "1\n",
      "0\n",
      "3\n",
      "4\n",
      "5\n",
      "6\n"
     ]
    }
   ],
   "source": [
    "#3.23\n",
    "for i in range(2):\n",
    "    print(i)\n",
    "\n",
    "for i in range(1):\n",
    "    print(i)\n",
    "\n",
    "range(3, 7):\n",
    "    print(i)\n"
   ]
  },
  {
   "cell_type": "code",
   "execution_count": 26,
   "metadata": {},
   "outputs": [
    {
     "name": "stdout",
     "output_type": "stream",
     "text": [
      "cia\n",
      "mi6\n",
      "isi\n"
     ]
    }
   ],
   "source": [
    "#3.24\n",
    "lst = ['cia','secret','mi6','isi','secret']\n",
    "for i in lst:\n",
    "    if i != 'secret':\n",
    "        print(i)"
   ]
  },
  {
   "cell_type": "code",
   "execution_count": 36,
   "metadata": {},
   "outputs": [
    {
     "name": "stdout",
     "output_type": "stream",
     "text": [
      "Ellie\n",
      "Steve\n",
      "Sam\n",
      "Owen\n",
      "Gavin\n"
     ]
    }
   ],
   "source": [
    "#3.25\n",
    "lst =  ['Ellie', 'Steve', 'Sam', 'Owen', 'Gavin'] \n",
    "for i in lst:\n",
    "       if i[0]=='E' or 'G':\n",
    "            print(i)"
   ]
  },
  {
   "cell_type": "code",
   "execution_count": 40,
   "metadata": {},
   "outputs": [
    {
     "name": "stdout",
     "output_type": "stream",
     "text": [
      "3\n",
      "9\n"
     ]
    }
   ],
   "source": [
    "#3.26\n",
    "num = [3, 5, 7, 9]\n",
    "print(min(num))\n",
    "print(max(num))"
   ]
  },
  {
   "cell_type": "code",
   "execution_count": 42,
   "metadata": {},
   "outputs": [
    {
     "name": "stdout",
     "output_type": "stream",
     "text": [
      "Enter n3\n",
      "0\n",
      "1\n",
      "4\n"
     ]
    }
   ],
   "source": [
    "#3.27\n",
    "n = int(input(\"Enter n\"))\n",
    "for i in range(n):\n",
    "    print(i**2)"
   ]
  },
  {
   "cell_type": "code",
   "execution_count": 47,
   "metadata": {},
   "outputs": [
    {
     "name": "stdout",
     "output_type": "stream",
     "text": [
      "Enter n50\n",
      "0\n"
     ]
    }
   ],
   "source": [
    "#3.29\n",
    "n = int(input(\"Enter n\"))\n",
    "for i in range(n):\n",
    "    if i%n==0:\n",
    "        print(i)"
   ]
  },
  {
   "cell_type": "code",
   "execution_count": 50,
   "metadata": {},
   "outputs": [
    {
     "name": "stdout",
     "output_type": "stream",
     "text": [
      "Enter the third number4.5\n",
      "Enter the second number3\n",
      "Enterthe third number3\n",
      "Enter the last number3.5\n",
      "Equal\n"
     ]
    }
   ],
   "source": [
    "#3.30\n",
    "F = (float(input(\"Enter the third number\")))\n",
    "S = (float(input(\"Enter the second number\")))\n",
    "TH = (float(input(\"Enterthe third number\")))\n",
    "L = (float(input(\"Enter the last number\")))\n",
    "if (F + S + TH)/3 == L:\n",
    "    print(\"Equal\")"
   ]
  },
  {
   "cell_type": "code",
   "execution_count": 52,
   "metadata": {},
   "outputs": [
    {
     "name": "stdout",
     "output_type": "stream",
     "text": [
      "Enter the number10\n",
      "Enter the number-10\n",
      "It is in\n"
     ]
    }
   ],
   "source": [
    "#3.31\n",
    "from math import sqrt\n",
    "x2 = (float(input(\"Enter the number\")))\n",
    "y2 = (float(input(\"Enter the number\")))\n",
    "x1 = 2.5\n",
    "y1 = 4\n",
    "rad = 8\n",
    "X = sqrt((x2 - x1)**2 + (y2 - y1)**2)\n",
    "if X>rad:\n",
    "    print(\"It is in\")"
   ]
  },
  {
   "cell_type": "code",
   "execution_count": 54,
   "metadata": {},
   "outputs": [
    {
     "name": "stdout",
     "output_type": "stream",
     "text": [
      "0\n",
      "1\n",
      "2\n",
      "3\n",
      "4\n"
     ]
    }
   ],
   "source": [
    "#3.32\n",
    "for i in range(5):\n",
    "    print(i)"
   ]
  },
  {
   "cell_type": "code",
   "execution_count": 61,
   "metadata": {},
   "outputs": [
    {
     "name": "stdout",
     "output_type": "stream",
     "text": [
      "Enter a string: dna\n",
      "and\n"
     ]
    }
   ],
   "source": [
    "#3.33\n",
    "def reverse_string():\n",
    "    A = input(\"Enter a string: \")\n",
    "    print(A[::-1]) \n",
    "    return\n",
    "reverse_string()"
   ]
  },
  {
   "cell_type": "code",
   "execution_count": 65,
   "metadata": {},
   "outputs": [
    {
     "name": "stdout",
     "output_type": "stream",
     "text": [
      "Enter the hourly wage: 10\n",
      "Enter the hours of employee: 45\n",
      "475\n"
     ]
    }
   ],
   "source": [
    "#3.34\n",
    "def pay():\n",
    "    a = (int(input(\"Enter the hourly wage: \")))\n",
    "    b = (int(input(\"Enter the hours of employee: \")))\n",
    "    A = a * b\n",
    "    B = a * b + 25\n",
    "    if b>40:\n",
    "        print(B)\n",
    "    else:\n",
    "        print(A)\n",
    "        return\n",
    "pay()"
   ]
  },
  {
   "cell_type": "code",
   "execution_count": 66,
   "metadata": {},
   "outputs": [
    {
     "name": "stdout",
     "output_type": "stream",
     "text": [
      "Enter a value: 1\n",
      "0.5\n"
     ]
    }
   ],
   "source": [
    "#3.35\n",
    "def prob():\n",
    "    n = (int(input(\"Enter a value: \")))\n",
    "    prob = 1/2**n\n",
    "    print(prob)\n",
    "    return\n",
    "prob()"
   ]
  },
  {
   "cell_type": "code",
   "execution_count": 69,
   "metadata": {},
   "outputs": [
    {
     "name": "stdout",
     "output_type": "stream",
     "text": [
      "Enter the int: 123\n",
      "321\n"
     ]
    }
   ],
   "source": [
    "#3.36\n",
    "def reverse_int():\n",
    "    n = (input(\"Enter the int: \"))\n",
    "    print(n[::-1])\n",
    "    return\n",
    "reverse_int()"
   ]
  },
  {
   "cell_type": "code",
   "execution_count": 70,
   "metadata": {},
   "outputs": [
    {
     "name": "stdout",
     "output_type": "stream",
     "text": [
      "0\n",
      "0\n",
      "1\n",
      "1\n",
      "The distance is:  1.4142135623730951\n",
      "slope is:  1.0\n"
     ]
    }
   ],
   "source": [
    "#3.37\n",
    "def points():\n",
    "    x1 = int(input())\n",
    "    y1 = int(input())\n",
    "    x2 = int(input())\n",
    "    y2 = int(input())\n",
    "    X = sqrt((x2 - x1)**2 + (y2 - y1)**2)\n",
    "    m = y2 - y1/x2 - x1\n",
    "    print(\"The distance is: \", X)\n",
    "    print(\"slope is: \", m)\n",
    "    return\n",
    "points()"
   ]
  },
  {
   "cell_type": "code",
   "execution_count": 71,
   "metadata": {},
   "outputs": [
    {
     "name": "stdout",
     "output_type": "stream",
     "text": [
      "enter a day: tuesday\n",
      "tu\n"
     ]
    }
   ],
   "source": [
    "#3.38\n",
    "def abb():\n",
    "    day = input(\"enter a day: \")\n",
    "    print(day[:2])\n",
    "    return\n",
    "abb()"
   ]
  },
  {
   "cell_type": "code",
   "execution_count": 72,
   "metadata": {},
   "outputs": [
    {
     "name": "stdout",
     "output_type": "stream",
     "text": [
      "Your first name: Mustafa\n",
      "Your last name: Hasnain\n",
      "Hasnain H\n"
     ]
    }
   ],
   "source": [
    "#3.41\n",
    "def lastF():\n",
    "    First_name = input(\"Your first name: \")\n",
    "    Last_name = input(\"Your last name: \")\n",
    "    print(Last_name, 'H')\n",
    "    return\n",
    "lastF()\n"
   ]
  }
 ],
 "metadata": {
  "kernelspec": {
   "display_name": "Python 3",
   "language": "python",
   "name": "python3"
  },
  "language_info": {
   "codemirror_mode": {
    "name": "ipython",
    "version": 3
   },
   "file_extension": ".py",
   "mimetype": "text/x-python",
   "name": "python",
   "nbconvert_exporter": "python",
   "pygments_lexer": "ipython3",
   "version": "3.7.4"
  }
 },
 "nbformat": 4,
 "nbformat_minor": 2
}
