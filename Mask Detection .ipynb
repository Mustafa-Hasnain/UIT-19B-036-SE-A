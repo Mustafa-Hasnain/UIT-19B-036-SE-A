{
 "cells": [
  {
   "cell_type": "code",
   "execution_count": null,
   "id": "908461bb",
   "metadata": {},
   "outputs": [],
   "source": [
    "#saving the array ofimages\n",
    "import numpy as np\n",
    "np.save('without_mask.npy', face_data)"
   ]
  },
  {
   "cell_type": "code",
   "execution_count": null,
   "id": "eec46f54",
   "metadata": {},
   "outputs": [],
   "source": [
    "np.save('with_mask.npy', face_data)"
   ]
  },
  {
   "cell_type": "code",
   "execution_count": 1,
   "id": "8e69f603",
   "metadata": {},
   "outputs": [
    {
     "name": "stdout",
     "output_type": "stream",
     "text": [
      "(200, 7500)\n",
      "(200, 7500)\n",
      "(400, 7500)\n"
     ]
    }
   ],
   "source": [
    "import numpy as np\n",
    "#loading images of with_mask and without mask\n",
    "without_mask = np.load('without_mask.npy')\n",
    "with_mask = np.load('with_mask.npy')\n",
    "with_mask =  with_mask.reshape(200,50 * 50* 3)\n",
    "without_mask = without_mask.reshape(200,50 * 50*3)\n",
    "print(with_mask.shape)\n",
    "print(without_mask.shape)\n",
    "all_img = np.r_[with_mask, without_mask] #concatinating data of wit_mask and without_mask\n",
    "print(all_img.shape)\n",
    "label = np.zeros(all_img.shape[0]) #taking zeros from images since. Here in (400,7500) 400 its images and 7500 are its dimensons\n",
    "label[200:] = 1.0 #we are considering images of with mask as 1 (that are rest 200 images)\n",
    "names = {0: 'Mask', 1: 'No mask'}"
   ]
  },
  {
   "cell_type": "code",
   "execution_count": 2,
   "id": "947a156d",
   "metadata": {},
   "outputs": [
    {
     "name": "stdout",
     "output_type": "stream",
     "text": [
      "(300, 7500)\n"
     ]
    }
   ],
   "source": [
    "from sklearn.svm import SVC #Support Vector Classification\n",
    "from sklearn.metrics import accuracy_score\n",
    "from sklearn.model_selection import train_test_split\n",
    "xtrain, xtest, ytrain, ytest = train_test_split(all_img, label, test_size = 0.25)\n",
    "print(xtrain.shape)\n",
    "#applying ML\n",
    "svc = SVC()\n",
    "svc.fit(xtrain, ytrain)\n",
    "#getting Y prediction from xtest\n",
    "y_pred = svc.predict(xtest)"
   ]
  },
  {
   "cell_type": "code",
   "execution_count": 3,
   "id": "4db1d26d",
   "metadata": {},
   "outputs": [],
   "source": [
    "xtrain, xtest, ytrain, ytest = train_test_split(all_img, label, test_size = 0.25)"
   ]
  },
  {
   "cell_type": "code",
   "execution_count": 4,
   "id": "5dffd475",
   "metadata": {},
   "outputs": [
    {
     "data": {
      "text/plain": [
       "0.59"
      ]
     },
     "execution_count": 4,
     "metadata": {},
     "output_type": "execute_result"
    }
   ],
   "source": [
    "accuracy_score(ytest, y_pred)"
   ]
  },
  {
   "cell_type": "code",
   "execution_count": null,
   "id": "7f99b904",
   "metadata": {},
   "outputs": [],
   "source": [
    "import cv2\n",
    "#capturing the video from the user and making a rectangle on it\n",
    "Haarcascade_data = cv2.CascadeClassifier('haarcascade_frontalface_default.xml')\n",
    "video =  cv2.VideoCapture(0)\n",
    "face_data = []\n",
    "font = cv2.FONT_HERSHEY_COMPLEX\n",
    "while True:\n",
    "    flag, img = video.read()\n",
    "    if flag == True:\n",
    "        detect_face = Haarcascade_data.detectMultiScale(img)\n",
    "        for x,y,w,h in detect_face:\n",
    "            rec = cv2.rectangle(img, (x,y), (w+x,h+y), (255,0,255), 4)\n",
    "            fetch_face = img[y:y+h, x:x+w, :] #collecting dimensions of face only using array indexing\n",
    "            fetch_face = cv2.resize(fetch_face, (50,50))\n",
    "            fetch_face = fetch_face.reshape(1,-1)\n",
    "            detect_mask = svc.predict(fetch_face)\n",
    "            n = names[int(detect_mask)]\n",
    "            cv2.putText(img, n, (x,y),font, 1, (234,0,240), 2)\n",
    "            print(n)\n",
    "        cv2.imshow('show',img)\n",
    "        if cv2.waitKey(2) == 27:\n",
    "            break\n",
    "video.release()\n",
    "cv2.destroyAllWindows()"
   ]
  }
 ],
 "metadata": {
  "kernelspec": {
   "display_name": "Python 3",
   "language": "python",
   "name": "python3"
  },
  "language_info": {
   "codemirror_mode": {
    "name": "ipython",
    "version": 3
   },
   "file_extension": ".py",
   "mimetype": "text/x-python",
   "name": "python",
   "nbconvert_exporter": "python",
   "pygments_lexer": "ipython3",
   "version": "3.8.8"
  }
 },
 "nbformat": 4,
 "nbformat_minor": 5
}
