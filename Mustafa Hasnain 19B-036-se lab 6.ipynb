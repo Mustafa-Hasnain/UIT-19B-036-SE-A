{
 "cells": [
  {
   "cell_type": "code",
   "execution_count": 1,
   "metadata": {},
   "outputs": [
    {
     "name": "stdout",
     "output_type": "stream",
     "text": [
      "Tuesday, November, 26, 2019\n",
      "01:49 PM Pakistan Standard Time\n",
      "I will meet you on : Tue, 26\n"
     ]
    }
   ],
   "source": [
    "import time\n",
    "def strftime():\n",
    "    print(time.strftime(\"%A, %B, %d, %Y\"))\n",
    "    print(time.strftime(\"%I:%M %p %Z\"))\n",
    "    print(\"I will meet you on :\",(time.strftime(\"%a, %d\")))\n",
    "    return\n",
    "strftime()"
   ]
  },
  {
   "cell_type": "code",
   "execution_count": 2,
   "metadata": {},
   "outputs": [
    {
     "name": "stdout",
     "output_type": "stream",
     "text": [
      "2\n",
      "13\n",
      "It will be a cloudy day today\n"
     ]
    }
   ],
   "source": [
    "def forecast():\n",
    "    forecast = \"It will be a sunny day today\"\n",
    "    print(forecast.count('day'))\n",
    "    print(forecast.find('sunny'))\n",
    "    print(forecast.replace('sunny','cloudy'))\n",
    "    return\n",
    "forecast()"
   ]
  },
  {
   "cell_type": "code",
   "execution_count": 3,
   "metadata": {},
   "outputs": [
    {
     "name": "stdout",
     "output_type": "stream",
     "text": [
      "2, "
     ]
    }
   ],
   "source": [
    "def even(n):\n",
    "    \n",
    "    for i in range(1,n):\n",
    "        if(i%2==0 or i%3==0):\n",
    "            print(i,end=', ')\n",
    "            return\n",
    "even(17)        "
   ]
  },
  {
   "cell_type": "code",
   "execution_count": 12,
   "metadata": {},
   "outputs": [
    {
     "name": "stdout",
     "output_type": "stream",
     "text": [
      "jan\n",
      "nov\n"
     ]
    }
   ],
   "source": [
    "def month():\n",
    "    month = ['jan','feb','mar','apr','may','june','july','aug','sep','oct','nov','dec']\n",
    "    print(month[0])\n",
    "    print(month[10])\n",
    "    return\n",
    "month()"
   ]
  },
  {
   "cell_type": "code",
   "execution_count": 16,
   "metadata": {},
   "outputs": [
    {
     "name": "stdout",
     "output_type": "stream",
     "text": [
      "How do you spell winner?\n",
      "I know, I know\n",
      "UITIANS!\n",
      "And that's how you spell winner.!\n",
      "Go Uitians!\n"
     ]
    }
   ],
   "source": [
    "def cheer():\n",
    "    print(\"How do you spell winner?\")\n",
    "    print(\"I know, I know\")\n",
    "    print(\"UITIANS!\")\n",
    "    print(\"And that's how you spell winner.!\")\n",
    "    print(\"Go Uitians!\")\n",
    "    return\n",
    "cheer()"
   ]
  },
  {
   "cell_type": "code",
   "execution_count": 1,
   "metadata": {
    "scrolled": true
   },
   "outputs": [
    {
     "name": "stdout",
     "output_type": "stream",
     "text": [
      "Enter your  name: Mustafa\n",
      "Enter your last name: Hasnain\n",
      "Enter your street: rashid minhas road\n",
      "Enter your cell number: 034578932\n",
      "Enter your city: Karachi\n",
      "Enter your state: Sindh\n",
      "Mustafa\n",
      "Hasnain\n",
      "rashid minhas road\n",
      "034578932\n",
      "Karachi\n",
      "Sindh\n"
     ]
    }
   ],
   "source": [
    "def mailaddress():\n",
    "    first = input(\"Enter your  name: \")\n",
    "    last = input(\"Enter your last name: \")\n",
    "    street = input(\"Enter your street: \")\n",
    "    number = input(\"Enter your cell number: \")\n",
    "    city = input(\"Enter your city: \")\n",
    "    state = input(\"Enter your state: \")\n",
    "    print(first)\n",
    "    print(last)\n",
    "    print(street)\n",
    "    print(number)\n",
    "    print(city)\n",
    "    print(state)\n",
    "    return\n",
    "mailaddress()"
   ]
  },
  {
   "cell_type": "code",
   "execution_count": 13,
   "metadata": {},
   "outputs": [
    {
     "name": "stdout",
     "output_type": "stream",
     "text": [
      "Enter your name: Mustafa Hasnain\n",
      "Mustafa Hasnain\n",
      "Enter the type of burger: Zinger Burger\n",
      "Zinger Burger\n",
      "Enter its quantity: 2\n",
      "The no. of burgers are:  2.0\n",
      "Enter its rate: 350\n",
      "The rate is:  350.0\n",
      "The amount is:  700.0\n",
      "The GST of amount is:  91.0\n",
      "The total amount with GST:  791.0\n",
      "Enter today's date: 11/27/2019\n",
      "The date is:  11/27/2019\n"
     ]
    }
   ],
   "source": [
    "import time\n",
    "def POS():\n",
    "    print(input(\"Enter your name: \"))\n",
    "    print(input(\"Enter the type of burger: \"))\n",
    "    Quantity = (float(input(\"Enter its quantity: \")))\n",
    "    print(\"The no. of burgers are: \",Quantity)\n",
    "    Rate = (float(input(\"Enter its rate: \")))\n",
    "    print(\"The rate is: \",Rate)\n",
    "    amount = (Quantity * Rate)\n",
    "    print(\"The amount is: \", amount)\n",
    "    GST = 13/100 * amount          \n",
    "    print(\"The GST of amount is: \", GST)\n",
    "    Total_amount = amount + GST\n",
    "    print(\"The total amount with GST: \",Total_amount)\n",
    "    Dated = input(\"Enter today's date: \")\n",
    "    print(\"The date is: \", Dated)\n",
    "    return\n",
    "POS()   "
   ]
  }
 ],
 "metadata": {
  "kernelspec": {
   "display_name": "Python 3",
   "language": "python",
   "name": "python3"
  },
  "language_info": {
   "codemirror_mode": {
    "name": "ipython",
    "version": 3
   },
   "file_extension": ".py",
   "mimetype": "text/x-python",
   "name": "python",
   "nbconvert_exporter": "python",
   "pygments_lexer": "ipython3",
   "version": "3.7.4"
  }
 },
 "nbformat": 4,
 "nbformat_minor": 2
}
