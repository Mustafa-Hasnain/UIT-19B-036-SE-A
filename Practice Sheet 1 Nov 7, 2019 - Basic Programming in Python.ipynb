{
 "cells": [
  {
   "cell_type": "markdown",
   "metadata": {},
   "source": [
    "# Practice Sheet 1 - Python Programming"
   ]
  },
  {
   "cell_type": "markdown",
   "metadata": {},
   "source": [
    "Asst. Prof. Syed Faisal Ali              $\\;\\;\\;\\;\\;\\;$              Programming Fundamentals - FALL 2019 $\\;\\;\\;\\;\\;\\;$ Software Engineering                     $\\;\\;\\;\\;\\;\\;$                   Dated: 7 Nov 2019"
   ]
  },
  {
   "cell_type": "markdown",
   "metadata": {},
   "source": [
    "Q1: Show how we can import 10 differnt functions from math library of python, such as trignometric or hyperbolic functions and two constants pi and e, and store 6 different angles such as zero, thirty, forty five, sixty, ninty and one hundred and eighty. Show them how you will use in program by giving them some values and print them."
   ]
  },
  {
   "cell_type": "code",
   "execution_count": 21,
   "metadata": {},
   "outputs": [
    {
     "name": "stdout",
     "output_type": "stream",
     "text": [
      "0.0  -0.9880316240928618  0.8509035245341184  -0.3048106211022167  0.8939966636005579\n"
     ]
    }
   ],
   "source": [
    "from math import sin, cos, pi, e\n",
    "print(sin(0),\"\", sin(30),\"\", sin(45),\"\", sin(60),\"\", sin(90))"
   ]
  },
  {
   "cell_type": "code",
   "execution_count": 32,
   "metadata": {},
   "outputs": [
    {
     "name": "stdout",
     "output_type": "stream",
     "text": [
      "enter the angle: 30\n",
      "enter the angle: 45\n",
      "-0.1371280995587434\n"
     ]
    }
   ],
   "source": [
    "#example\n",
    "a = float(input(\"enter the angle: \"))\n",
    "b = float(input(\"enter the angle: \"))\n",
    "print(sin(a) + sin(b))"
   ]
  },
  {
   "cell_type": "markdown",
   "metadata": {},
   "source": [
    "Q2. Use help() command to show what is math library, int, and class."
   ]
  },
  {
   "cell_type": "code",
   "execution_count": 37,
   "metadata": {},
   "outputs": [
    {
     "name": "stdout",
     "output_type": "stream",
     "text": [
      "class is <class 'int'>\n",
      "class is <class 'int'>\n",
      "class is <class 'float'>\n",
      "class is <class 'str'>\n"
     ]
    }
   ],
   "source": [
    "datalist = [5 , -8, 8.5, 'mustafa']\n",
    "for item in datalist:\n",
    "    print(\"class is\", type(item))"
   ]
  },
  {
   "cell_type": "markdown",
   "metadata": {},
   "source": [
    "Q3. Use len() function to show the lenght of your name stored in a variable my_name."
   ]
  },
  {
   "cell_type": "code",
   "execution_count": 34,
   "metadata": {},
   "outputs": [
    {
     "name": "stdout",
     "output_type": "stream",
     "text": [
      "Enter your name: mustafa\n",
      "7\n"
     ]
    }
   ],
   "source": [
    "my_name = input(\"Enter your name: \")\n",
    "print(len(my_name))"
   ]
  },
  {
   "cell_type": "markdown",
   "metadata": {},
   "source": [
    "Q4: We use type() function to show the type of the variable. Your task is to use it on different type of variables in which you save your name, date of birth, cell number, email, favourite dish, favourite color, favourite movie, favourite flower, etc."
   ]
  },
  {
   "cell_type": "code",
   "execution_count": 42,
   "metadata": {},
   "outputs": [
    {
     "name": "stdout",
     "output_type": "stream",
     "text": [
      "class is <class 'str'>\n",
      "class is <class 'int'>\n",
      "class is <class 'str'>\n",
      "class is <class 'str'>\n"
     ]
    }
   ],
   "source": [
    "Name = 'mustafa'\n",
    "data_of_birth = 29_5_2002\n",
    "email = 'mustafahasnain19@gmail.com'\n",
    "favourite_dish = 'biryani'\n",
    "datalist = [Name, data_of_birth, email, favourite_dish]\n",
    "for item in datalist:\n",
    "    print(\"class is\", type(item))"
   ]
  },
  {
   "cell_type": "markdown",
   "metadata": {},
   "source": [
    "Q5: A football is kicked 1 meter from the ground at an angle of 30 degree with a velocity of 15 m/sec. \n",
    "<br>Calculate the following:\n",
    "<br>a. Max height above the ground.\n",
    "<br>b. Total time in the air.\n",
    "<br>c. Total distance traveled.\n",
    "<br>d. Velocity vector at max height.\n",
    "<br>e. Velocity when the ball hits the ground."
   ]
  },
  {
   "cell_type": "markdown",
   "metadata": {},
   "source": [
    "![proj](proj.jpg)\n",
    "\n"
   ]
  },
  {
   "cell_type": "code",
   "execution_count": null,
   "metadata": {},
   "outputs": [],
   "source": []
  },
  {
   "cell_type": "markdown",
   "metadata": {},
   "source": [
    "Q6: A mass of 5 kg is placed in an inclined plane. If 10 N force applied on it and the friction on the inclined plane is 0.4. Find, Sin, Cos and its movement for angle 30, 45 and 60 degrees ?"
   ]
  },
  {
   "cell_type": "markdown",
   "metadata": {},
   "source": [
    "![mass](mass.png)"
   ]
  },
  {
   "cell_type": "code",
   "execution_count": 22,
   "metadata": {},
   "outputs": [
    {
     "name": "stdout",
     "output_type": "stream",
     "text": [
      "583.296\n",
      "874.9440000000001\n"
     ]
    }
   ],
   "source": [
    "from math import sin\n",
    "m = 5\n",
    "f = 10\n",
    "fr = 0.4\n",
    "g = 9.8\n",
    "Q1 = 30\n",
    "Q2 = 45\n",
    "Q3 = 60\n",
    "#f =  mgsinQ - fr/m\n",
    "sin = (f - fr/m)/m*g*Q1\n",
    "print(sin)\n",
    "cos = (f - fr/m)/m*g*Q2\n",
    "print(cos)"
   ]
  },
  {
   "cell_type": "markdown",
   "metadata": {},
   "source": [
    "Q7: Three resiters of 10, 20 and 30 ohms are connected in series and in parallel if 10 V is given to them find current and voltages across them."
   ]
  },
  {
   "cell_type": "code",
   "execution_count": 3,
   "metadata": {},
   "outputs": [
    {
     "name": "stdout",
     "output_type": "stream",
     "text": [
      "1.8333333333333333 A\n",
      "110.0 v\n"
     ]
    }
   ],
   "source": [
    "r1 = 10\n",
    "r2 = 20 \n",
    "r3 = 30\n",
    "v = 10\n",
    "#in parallel\n",
    "i1 = v/r1\n",
    "i2 = v/r2\n",
    "i3 = v/r3\n",
    "it = i1 + i2 + i3 \n",
    "print(it ,\"A\")\n",
    "#for series\n",
    "vt = it*r1 + it*r2 + it*r3\n",
    "print(vt ,\"v\")"
   ]
  },
  {
   "cell_type": "markdown",
   "metadata": {},
   "source": [
    "Q8. Find the point of intercept if line 1 coordinates are (1,5), (7, 9) and line 2 coordinates are (2,4) (6,9)."
   ]
  },
  {
   "cell_type": "code",
   "execution_count": null,
   "metadata": {},
   "outputs": [],
   "source": [
    "line1_coordinates = "
   ]
  },
  {
   "cell_type": "raw",
   "metadata": {},
   "source": [
    "Q9: Write a small program which have unit price of 10 items such as eggs Rs 120 dozen, milk Rs 95 liter, butter 100 Rs for 125 gms, etc Now ask from the user one by one what he wants and how many he wants. Then do the total amount of purchase."
   ]
  },
  {
   "cell_type": "code",
   "execution_count": 24,
   "metadata": {},
   "outputs": [
    {
     "name": "stdout",
     "output_type": "stream",
     "text": [
      "540\n"
     ]
    }
   ],
   "source": [
    "milk = 'Rs', 120, 'dozen'\n",
    "butter = 'Rs', 100, 'for 125 gm'\n",
    "eggs = 'Rs', 120, 'dozen'\n",
    "cornflakes = 'Rs', 200\n",
    "purchase = 120 + 100 + 120 + 200\n",
    "print(purchase)"
   ]
  },
  {
   "cell_type": "markdown",
   "metadata": {},
   "source": [
    "Q10: A 5m 60cm high vertical pole casts a shadow 3m 20 cm long. Find at the same time \n",
    "<br>(i) the length of the shadow cast another pole 10m 50cm high \n",
    "<br>(ii) the height of a pole which casts a shadow 5m long."
   ]
  },
  {
   "cell_type": "code",
   "execution_count": null,
   "metadata": {},
   "outputs": [],
   "source": []
  },
  {
   "cell_type": "markdown",
   "metadata": {},
   "source": []
  },
  {
   "cell_type": "markdown",
   "metadata": {},
   "source": []
  }
 ],
 "metadata": {
  "kernelspec": {
   "display_name": "Python 3",
   "language": "python",
   "name": "python3"
  },
  "language_info": {
   "codemirror_mode": {
    "name": "ipython",
    "version": 3
   },
   "file_extension": ".py",
   "mimetype": "text/x-python",
   "name": "python",
   "nbconvert_exporter": "python",
   "pygments_lexer": "ipython3",
   "version": "3.7.4"
  }
 },
 "nbformat": 4,
 "nbformat_minor": 2
}
