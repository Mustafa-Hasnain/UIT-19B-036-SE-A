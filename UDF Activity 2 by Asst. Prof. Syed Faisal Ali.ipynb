{
 "cells": [
  {
   "cell_type": "markdown",
   "metadata": {},
   "source": [
    "# Python User Define Function Practice Activity - 2 "
   ]
  },
  {
   "cell_type": "markdown",
   "metadata": {},
   "source": [
    "Asst. Prof. Syed Faisal Ali              $\\;\\;\\;\\;\\;\\;$              Programming Fundamentals - FALL 2019 $\\;\\;\\;\\;\\;\\;$ Software Engineering                     $\\;\\;\\;\\;\\;\\;$                   Dated: 27 Nov 2019"
   ]
  },
  {
   "cell_type": "markdown",
   "metadata": {},
   "source": [
    "Question 1: Create a function to find the following:\n",
    "If the base of triangle is 3 cm long and its equilateral triangle and the radius of circle is 1.5 cm then find the area of triangle shaded. \n"
   ]
  },
  {
   "cell_type": "markdown",
   "metadata": {},
   "source": [
    "![proj](q1.jpg)"
   ]
  },
  {
   "cell_type": "code",
   "execution_count": 6,
   "metadata": {},
   "outputs": [
    {
     "name": "stdout",
     "output_type": "stream",
     "text": [
      "The area of quad is: 3.8971143170299736\n",
      "The area without radius is: 2.3971143170299736\n",
      "The total area is 16.779800219209815 m^2\n"
     ]
    }
   ],
   "source": [
    "from math import sqrt\n",
    "def area():\n",
    "    #the formula of equilateral triangle is A = sq.rt(3)/4*side\n",
    "    a = 3\n",
    "    area_of_quad = sqrt(3)/4*a**2\n",
    "    print(\"The area of quad is:\", area_of_quad)\n",
    "    #area not including radius\n",
    "    R_area = area_of_quad - 1.5\n",
    "    print(\"The area without radius is:\", R_area)\n",
    "    #since there are 6 triangles \n",
    "    T_area = R_area * 7\n",
    "    print(\"The total area is\", T_area, \"m^2\")\n",
    "    return\n",
    "area()\n",
    "#time taken: 10 min"
   ]
  },
  {
   "cell_type": "markdown",
   "metadata": {},
   "source": [
    "Question 2: Create a function which can read a dictionary of your family members such as 5 members. \n",
    "1 Abbu, 1 Ammi, 2 Brothers 1 Sister. Now feed this data in dictionary in terms of name and relations.\n",
    "The UDF will ask findrelation() in this you will enter Brother it will return the names of two brothers you have inserted. In case if the relation is not found it will return “Sorry the relation doesn’t exist in your family.” \n"
   ]
  },
  {
   "cell_type": "code",
   "execution_count": 18,
   "metadata": {},
   "outputs": [
    {
     "name": "stdout",
     "output_type": "stream",
     "text": [
      "Ali and Ahmed\n"
     ]
    }
   ],
   "source": [
    "def family_dict():\n",
    "    family_dict = {\"Abbu\": \"Anjum Hasnain\", \"Ammi\": \"Samina Anjum\", \"Brother1\": \"Ali\", \"Brother2\": \"Ahmed\", \"Sister\": \"Rabab\"}\n",
    "    print(family_dict[\"Brother1\"], \"and\", family_dict[\"Brother2\"]) \n",
    "    return\n",
    "family_dict()"
   ]
  },
  {
   "cell_type": "markdown",
   "metadata": {},
   "source": [
    "Question 3: Create a function to find the following:\n",
    "If the base of triangle is 5 cm long and its equilateral triangle and the radius of circle is 2.25 cm then find the area of triangle shaded. \n"
   ]
  },
  {
   "cell_type": "markdown",
   "metadata": {},
   "source": [
    "![proj](q3.jpg)"
   ]
  },
  {
   "cell_type": "code",
   "execution_count": 22,
   "metadata": {},
   "outputs": [
    {
     "name": "stdout",
     "output_type": "stream",
     "text": [
      "The area of circle:  2.7063293868263707\n",
      "The area inc. radius is:  4.95632938682637\n",
      "The area of 6 triangles is:  34.69430570778459\n"
     ]
    }
   ],
   "source": [
    "def area():\n",
    "    #Area of triangle excluding circle\n",
    "    a = 2.5\n",
    "    area_of_quad = sqrt(3)/4*a**2\n",
    "    print(\"The area of circle: \", area_of_quad)\n",
    "    #Area of triangle including radius\n",
    "    T_area = area_of_quad + 2.25\n",
    "    print(\"The area inc. radius is: \",T_area)\n",
    "    #The area of 6 triangles\n",
    "    Q_area = T_area * 7\n",
    "    print(\"The area of 6 triangles is: \", Q_area)\n",
    "    return\n",
    "area()\n",
    "#time taken 5min"
   ]
  },
  {
   "cell_type": "markdown",
   "metadata": {},
   "source": [
    "Question 4:\n",
    "Create a function that takes a list of random numbers from users and add only those which are even. If all the numbers are odd it will return sorry no even number found.\n"
   ]
  },
  {
   "cell_type": "code",
   "execution_count": 3,
   "metadata": {},
   "outputs": [
    {
     "name": "stdout",
     "output_type": "stream",
     "text": [
      "2 "
     ]
    }
   ],
   "source": [
    "def even():\n",
    "    start, end = 1, 16\n",
    "    for i in range(start, end + 1):\n",
    "        if i%2==0:\n",
    "            print(i, end = \" \")\n",
    "            return\n",
    "even()"
   ]
  },
  {
   "cell_type": "markdown",
   "metadata": {},
   "source": [
    "Question 5:\n",
    "Write a function which can take a list of numbers and it will return sorted list.\n"
   ]
  },
  {
   "cell_type": "code",
   "execution_count": 5,
   "metadata": {},
   "outputs": [
    {
     "name": "stdout",
     "output_type": "stream",
     "text": [
      "[2, 4, 5, 6, 7, 9]\n"
     ]
    }
   ],
   "source": [
    "def num():\n",
    "    num = [2, 4, 5, 7, 6, 9]\n",
    "    num.sort()\n",
    "    print(num)\n",
    "    return\n",
    "num()"
   ]
  },
  {
   "cell_type": "markdown",
   "metadata": {},
   "source": [
    "Question 6:\n",
    "Write a function that will take the radius and return the perimeter and area of circle with 5% increment.\n"
   ]
  },
  {
   "cell_type": "code",
   "execution_count": 7,
   "metadata": {},
   "outputs": [
    {
     "name": "stdout",
     "output_type": "stream",
     "text": [
      "Enter the radius: 3\n",
      "28.274333882308138\n",
      "18.84955592153876\n"
     ]
    }
   ],
   "source": [
    "from math import pi\n",
    "def rad():\n",
    "    r = (float(input(\"Enter the radius: \")))\n",
    "    area = pi*r**2\n",
    "    print(area)\n",
    "    per = 2*pi*r\n",
    "    print(per)\n",
    "    return\n",
    "rad()"
   ]
  },
  {
   "cell_type": "markdown",
   "metadata": {},
   "source": [
    "Question 7:\n",
    "Write a function that will take the strings as argument and return number of vowels and consonants.\n"
   ]
  },
  {
   "cell_type": "code",
   "execution_count": 9,
   "metadata": {},
   "outputs": [
    {
     "ename": "SyntaxError",
     "evalue": "invalid syntax (<ipython-input-9-6a439c36ae44>, line 12)",
     "output_type": "error",
     "traceback": [
      "\u001b[1;36m  File \u001b[1;32m\"<ipython-input-9-6a439c36ae44>\"\u001b[1;36m, line \u001b[1;32m12\u001b[0m\n\u001b[1;33m    consultants = consultants + 1\u001b[0m\n\u001b[1;37m              ^\u001b[0m\n\u001b[1;31mSyntaxError\u001b[0m\u001b[1;31m:\u001b[0m invalid syntax\n"
     ]
    }
   ],
   "source": [
    "def string():\n",
    "    string = input(\"Enter a string: \")\n",
    "    vowels = 0\n",
    "    for i in string:\n",
    "        if(i=='a'or i=='e'or i=='e'or i=='o'or i=='u'):\n",
    "            vowels = vowels + 1\n",
    "    print(\"vowels are: \", vowels)\n",
    "    \n",
    "    consultants = 0\n",
    "    for i in string:\n",
    "        if((i!='a'or i!='e'or i!='e'or i!='o'or i!='u')\n",
    "           consultants = consultants + 1\n",
    "    print(consultants)            "
   ]
  },
  {
   "cell_type": "markdown",
   "metadata": {},
   "source": [
    "Question 8:\n",
    "Write a function that will take length and breadth for a rectangle and return perimeter and area of rectangle with 8% increment.\n"
   ]
  },
  {
   "cell_type": "code",
   "execution_count": 15,
   "metadata": {},
   "outputs": [
    {
     "name": "stdout",
     "output_type": "stream",
     "text": [
      "Enter the length: 3\n",
      "Enter the breath: 5\n",
      "The area with 8% increment 8.64 m^2\n",
      "The perimeter with 8% increment 16 m^2\n"
     ]
    }
   ],
   "source": [
    "def rectangle():\n",
    "    L = int(input(\"Enter the length: \"))\n",
    "    B = int(input(\"Enter the breath: \"))\n",
    "    A = L + B\n",
    "    A1 = A * 0.08\n",
    "    A2 =  A + A1\n",
    "    print(\"The area with 8% increment\", A2 ,\"m^2\")\n",
    "    P = A*2\n",
    "    P1 = A*2 * 0.08\n",
    "    P2 = P + P1\n",
    "    print(\"The perimeter with 8% increment\", P, \"m^2\")\n",
    "    return\n",
    "rectangle()"
   ]
  },
  {
   "cell_type": "markdown",
   "metadata": {},
   "source": [
    "Question 9:\n",
    "Write a function that can take the numbers in strings. From string find which number is even and which one is odd. Save them in two different lists and generate the result.\n"
   ]
  },
  {
   "cell_type": "code",
   "execution_count": 26,
   "metadata": {},
   "outputs": [
    {
     "name": "stdout",
     "output_type": "stream",
     "text": [
      "[1, 2, 3, 4, 5, 6, 7, 8, 9, 10]\n"
     ]
    }
   ],
   "source": [
    "def num():\n",
    "    num = [1, 2, 3, 4, 5, 6, 7, 8, 9, 10]\n",
    "    for i in num:\n",
    "        if i%2==0:\n",
    "            print(num)\n",
    "        if i%2!=0:\n",
    "            print(num)\n",
    "            return\n",
    "num()"
   ]
  },
  {
   "cell_type": "markdown",
   "metadata": {},
   "source": [
    "Question 10:\n",
    "Write a function which will take the string from the user and return how many alphabets have been used in it and which alphabets are missing.\n"
   ]
  },
  {
   "cell_type": "code",
   "execution_count": 28,
   "metadata": {},
   "outputs": [
    {
     "name": "stdout",
     "output_type": "stream",
     "text": [
      "Enter the string: mustafa\n",
      "7\n"
     ]
    }
   ],
   "source": [
    "def string():\n",
    "    A = input(\"Enter the string: \")\n",
    "    print(len(A))\n",
    "    return\n",
    "string()"
   ]
  },
  {
   "cell_type": "markdown",
   "metadata": {},
   "source": [
    "Question 11:\n",
    "Write a function that will take verbs in words and return a list of verbs with continuous tense by adding (ing) at the end of each verb.\n"
   ]
  },
  {
   "cell_type": "code",
   "execution_count": 31,
   "metadata": {},
   "outputs": [
    {
     "name": "stdout",
     "output_type": "stream",
     "text": [
      "working cooking sleeping\n"
     ]
    }
   ],
   "source": [
    "def verb():\n",
    "    verbs = ['work', 'cook', 'sleep']\n",
    "    print(verbs[0]+'ing', verbs[1]+'ing', verbs[2]+'ing')\n",
    "    return\n",
    "verb()"
   ]
  },
  {
   "cell_type": "markdown",
   "metadata": {},
   "source": [
    "Question 12:\n",
    "Make a function which can take two radius of circles and find the areas of it and subtract smaller one from larger one and tell the remaining area of circle.\n"
   ]
  },
  {
   "cell_type": "code",
   "execution_count": 37,
   "metadata": {},
   "outputs": [
    {
     "name": "stdout",
     "output_type": "stream",
     "text": [
      "Enter the radius:3\n",
      "Enter the radius:5\n",
      "The remainig radius is 50.26548245743669 m\n"
     ]
    }
   ],
   "source": [
    "from math import pi\n",
    "def rad():\n",
    "    r1 = float(input(\"Enter the radius:\"))\n",
    "    r2 = float(input(\"Enter the radius:\"))\n",
    "    A1 = pi*r1**2\n",
    "    A2 = pi*r2**2\n",
    "    A = A2 - A1\n",
    "    print(\"The remainig radius is\", A, \"m\")\n",
    "    return\n",
    "rad()"
   ]
  },
  {
   "cell_type": "markdown",
   "metadata": {},
   "source": [
    "Question 13:\n",
    "Write a function that will take a string and calculate number of Upper case letters and lower case letters.\n"
   ]
  },
  {
   "cell_type": "code",
   "execution_count": 41,
   "metadata": {},
   "outputs": [
    {
     "name": "stdout",
     "output_type": "stream",
     "text": [
      "Enter a stringmustafa\n",
      "The uppercase letters are:\n",
      "7\n",
      "The lowercase letters are:\n"
     ]
    },
    {
     "ename": "UnboundLocalError",
     "evalue": "local variable 'count2' referenced before assignment",
     "output_type": "error",
     "traceback": [
      "\u001b[1;31m---------------------------------------------------------------------------\u001b[0m",
      "\u001b[1;31mUnboundLocalError\u001b[0m                         Traceback (most recent call last)",
      "\u001b[1;32m<ipython-input-41-c94c832ac6fe>\u001b[0m in \u001b[0;36m<module>\u001b[1;34m\u001b[0m\n\u001b[0;32m     12\u001b[0m     \u001b[0mprint\u001b[0m\u001b[1;33m(\u001b[0m\u001b[0mcount2\u001b[0m\u001b[1;33m)\u001b[0m\u001b[1;33m\u001b[0m\u001b[1;33m\u001b[0m\u001b[0m\n\u001b[0;32m     13\u001b[0m     \u001b[1;32mreturn\u001b[0m\u001b[1;33m\u001b[0m\u001b[1;33m\u001b[0m\u001b[0m\n\u001b[1;32m---> 14\u001b[1;33m \u001b[0mcase\u001b[0m\u001b[1;33m(\u001b[0m\u001b[1;33m)\u001b[0m\u001b[1;33m\u001b[0m\u001b[1;33m\u001b[0m\u001b[0m\n\u001b[0m",
      "\u001b[1;32m<ipython-input-41-c94c832ac6fe>\u001b[0m in \u001b[0;36mcase\u001b[1;34m()\u001b[0m\n\u001b[0;32m     10\u001b[0m     \u001b[0mprint\u001b[0m\u001b[1;33m(\u001b[0m\u001b[0mcount1\u001b[0m\u001b[1;33m)\u001b[0m\u001b[1;33m\u001b[0m\u001b[1;33m\u001b[0m\u001b[0m\n\u001b[0;32m     11\u001b[0m     \u001b[0mprint\u001b[0m\u001b[1;33m(\u001b[0m\u001b[1;34m\"The lowercase letters are:\"\u001b[0m\u001b[1;33m)\u001b[0m\u001b[1;33m\u001b[0m\u001b[1;33m\u001b[0m\u001b[0m\n\u001b[1;32m---> 12\u001b[1;33m     \u001b[0mprint\u001b[0m\u001b[1;33m(\u001b[0m\u001b[0mcount2\u001b[0m\u001b[1;33m)\u001b[0m\u001b[1;33m\u001b[0m\u001b[1;33m\u001b[0m\u001b[0m\n\u001b[0m\u001b[0;32m     13\u001b[0m     \u001b[1;32mreturn\u001b[0m\u001b[1;33m\u001b[0m\u001b[1;33m\u001b[0m\u001b[0m\n\u001b[0;32m     14\u001b[0m \u001b[0mcase\u001b[0m\u001b[1;33m(\u001b[0m\u001b[1;33m)\u001b[0m\u001b[1;33m\u001b[0m\u001b[1;33m\u001b[0m\u001b[0m\n",
      "\u001b[1;31mUnboundLocalError\u001b[0m: local variable 'count2' referenced before assignment"
     ]
    }
   ],
   "source": [
    "def case():\n",
    "    string = input(\"Enter a string\")\n",
    "    count1 = 0\n",
    "    for i in string:\n",
    "        if(i.islower()):\n",
    "            count1 = count1 + 1\n",
    "        elif(i.isupper()):\n",
    "            count2 = count2 + 1\n",
    "    print(\"The uppercase letters are:\")\n",
    "    print(count1)\n",
    "    print(\"The lowercase letters are:\")\n",
    "    print(count2)\n",
    "    return\n",
    "case()"
   ]
  },
  {
   "cell_type": "markdown",
   "metadata": {},
   "source": [
    "Question 14:\n",
    "Write a function which will take length and breadth of two rectangles. Subtract the smaller rectangle from the larger rectangle and return the area left behind.\n"
   ]
  },
  {
   "cell_type": "code",
   "execution_count": 45,
   "metadata": {},
   "outputs": [
    {
     "name": "stdout",
     "output_type": "stream",
     "text": [
      "Enter the length: 3\n",
      "Enter the length: 5\n",
      "Enter the breath: 3\n",
      "Enter the breath: 6\n",
      "21 m^2\n"
     ]
    }
   ],
   "source": [
    "def area():\n",
    "    L1 = int(input(\"Enter the length: \"))\n",
    "    L2 = int(input(\"Enter the length: \"))\n",
    "    B1 = int(input(\"Enter the breath: \"))\n",
    "    B2 = int(input(\"Enter the breath: \"))\n",
    "    A1 = L1 * B1\n",
    "    A2 = L2 * B2\n",
    "    A = A2 - A1\n",
    "    print(A, \"m^2\")\n",
    "    return\n",
    "area()"
   ]
  },
  {
   "cell_type": "markdown",
   "metadata": {},
   "source": [
    "Question 15:\n",
    "Create a function that can add the fractions in series such as 1 to 8 = 1/8+1/7+1/6+1/5 …… ½ and return the result in fraction not in decimal.\n"
   ]
  },
  {
   "cell_type": "code",
   "execution_count": null,
   "metadata": {},
   "outputs": [],
   "source": []
  },
  {
   "cell_type": "markdown",
   "metadata": {},
   "source": [
    "Question 16:\n",
    "Write a function which will take height and base for a triangle and \n"
   ]
  },
  {
   "cell_type": "code",
   "execution_count": null,
   "metadata": {},
   "outputs": [],
   "source": []
  },
  {
   "cell_type": "markdown",
   "metadata": {},
   "source": [
    "Question 17:\n",
    "Write a function which will take a list of fruits names. The function will return how many alphabets are repetitive in the names of fruits and how many are unique letters.\n"
   ]
  },
  {
   "cell_type": "code",
   "execution_count": 52,
   "metadata": {},
   "outputs": [
    {
     "ename": "TypeError",
     "evalue": "'builtin_function_or_method' object is not subscriptable",
     "output_type": "error",
     "traceback": [
      "\u001b[1;31m---------------------------------------------------------------------------\u001b[0m",
      "\u001b[1;31mTypeError\u001b[0m                                 Traceback (most recent call last)",
      "\u001b[1;32m<ipython-input-52-39a6ba790165>\u001b[0m in \u001b[0;36m<module>\u001b[1;34m\u001b[0m\n\u001b[0;32m      5\u001b[0m     \u001b[0mprint\u001b[0m\u001b[1;33m(\u001b[0m\u001b[0mfruits\u001b[0m\u001b[1;33m)\u001b[0m\u001b[1;33m\u001b[0m\u001b[1;33m\u001b[0m\u001b[0m\n\u001b[0;32m      6\u001b[0m     \u001b[1;32mreturn\u001b[0m\u001b[1;33m\u001b[0m\u001b[1;33m\u001b[0m\u001b[0m\n\u001b[1;32m----> 7\u001b[1;33m \u001b[0mfruits\u001b[0m\u001b[1;33m(\u001b[0m\u001b[1;33m)\u001b[0m\u001b[1;33m\u001b[0m\u001b[1;33m\u001b[0m\u001b[0m\n\u001b[0m",
      "\u001b[1;32m<ipython-input-52-39a6ba790165>\u001b[0m in \u001b[0;36mfruits\u001b[1;34m()\u001b[0m\n\u001b[0;32m      2\u001b[0m \u001b[1;32mdef\u001b[0m \u001b[0mfruits\u001b[0m\u001b[1;33m(\u001b[0m\u001b[1;33m)\u001b[0m\u001b[1;33m:\u001b[0m\u001b[1;33m\u001b[0m\u001b[1;33m\u001b[0m\u001b[0m\n\u001b[0;32m      3\u001b[0m     \u001b[0mfruits\u001b[0m \u001b[1;33m=\u001b[0m \u001b[1;33m[\u001b[0m\u001b[1;34m'mango'\u001b[0m\u001b[1;33m,\u001b[0m \u001b[1;34m'pineapple'\u001b[0m\u001b[1;33m,\u001b[0m \u001b[1;34m'orango'\u001b[0m\u001b[1;33m]\u001b[0m\u001b[1;33m\u001b[0m\u001b[1;33m\u001b[0m\u001b[0m\n\u001b[1;32m----> 4\u001b[1;33m     \u001b[0mfruits\u001b[0m\u001b[1;33m.\u001b[0m\u001b[0mcount\u001b[0m\u001b[1;33m[\u001b[0m\u001b[1;34m'a'\u001b[0m\u001b[1;33m]\u001b[0m\u001b[1;33m\u001b[0m\u001b[1;33m\u001b[0m\u001b[0m\n\u001b[0m\u001b[0;32m      5\u001b[0m     \u001b[0mprint\u001b[0m\u001b[1;33m(\u001b[0m\u001b[0mfruits\u001b[0m\u001b[1;33m)\u001b[0m\u001b[1;33m\u001b[0m\u001b[1;33m\u001b[0m\u001b[0m\n\u001b[0;32m      6\u001b[0m     \u001b[1;32mreturn\u001b[0m\u001b[1;33m\u001b[0m\u001b[1;33m\u001b[0m\u001b[0m\n",
      "\u001b[1;31mTypeError\u001b[0m: 'builtin_function_or_method' object is not subscriptable"
     ]
    }
   ],
   "source": [
    "import collections\n",
    "def fruits():\n",
    "    fruits = ['mango', 'pineapple', 'orango']\n",
    "    fruits.count['a']\n",
    "    print(fruits)\n",
    "    return\n",
    "fruits()"
   ]
  },
  {
   "cell_type": "markdown",
   "metadata": {},
   "source": [
    "Question 18:\n",
    "Write a function that can take square length and radius of circle. Find the area of both and subtract the smallest shape from largest one and return the remaining shape area.\n"
   ]
  },
  {
   "cell_type": "code",
   "execution_count": 55,
   "metadata": {},
   "outputs": [
    {
     "name": "stdout",
     "output_type": "stream",
     "text": [
      "Enter number: 3\n",
      "Enter number: 6\n",
      "84.82300164692441\n"
     ]
    }
   ],
   "source": [
    "from math import pi\n",
    "def rad():\n",
    "    r1 = float(input(\"Enter number: \"))\n",
    "    r2 = float(input(\"Enter number: \"))\n",
    "    A1 = pi * r1**2\n",
    "    A2 = pi * r2**2\n",
    "    A = A2 - A1\n",
    "    print(A)\n",
    "    return\n",
    "rad()"
   ]
  }
 ],
 "metadata": {
  "kernelspec": {
   "display_name": "Python 3",
   "language": "python",
   "name": "python3"
  },
  "language_info": {
   "codemirror_mode": {
    "name": "ipython",
    "version": 3
   },
   "file_extension": ".py",
   "mimetype": "text/x-python",
   "name": "python",
   "nbconvert_exporter": "python",
   "pygments_lexer": "ipython3",
   "version": "3.7.4"
  }
 },
 "nbformat": 4,
 "nbformat_minor": 2
}
